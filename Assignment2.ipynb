{
 "cells": [
  {
   "cell_type": "code",
   "execution_count": 2,
   "metadata": {},
   "outputs": [
    {
     "name": "stdout",
     "output_type": "stream",
     "text": [
      "Enter value in kilometers: 5\n",
      "5.0  Kilometers =  3.10685595 mile\n"
     ]
    }
   ],
   "source": [
    "km=float(input(\"Enter value in kilometers: \"))\n",
    "mile=km*0.62137119\n",
    "print(km,\" Kilometers = \",mile,\"mile\")"
   ]
  },
  {
   "cell_type": "code",
   "execution_count": 3,
   "metadata": {},
   "outputs": [
    {
     "name": "stdout",
     "output_type": "stream",
     "text": [
      "Enter temperature in celcius: 5\n",
      "5.0  Celcius =  41.0  Fahrenheit \n"
     ]
    }
   ],
   "source": [
    "c=float(input(\"Enter temperature in celcius: \"))\n",
    "f=9*c/5+32\n",
    "print(c,\" Celcius = \",f,\" Fahrenheit \")"
   ]
  },
  {
   "cell_type": "code",
   "execution_count": 5,
   "metadata": {},
   "outputs": [
    {
     "name": "stdout",
     "output_type": "stream",
     "text": [
      "Enter month(1-12): 6\n",
      "Enter year: 1998\n",
      "     June 1998\n",
      "Mo Tu We Th Fr Sa Su\n",
      " 1  2  3  4  5  6  7\n",
      " 8  9 10 11 12 13 14\n",
      "15 16 17 18 19 20 21\n",
      "22 23 24 25 26 27 28\n",
      "29 30\n",
      "\n"
     ]
    }
   ],
   "source": [
    "import calendar\n",
    "m=int(input(\"Enter month(1-12): \"))\n",
    "y=int(input(\"Enter year: \"))\n",
    "print(calendar.month(y, m))"
   ]
  },
  {
   "cell_type": "code",
   "execution_count": 11,
   "metadata": {},
   "outputs": [
    {
     "name": "stdout",
     "output_type": "stream",
     "text": [
      "Quadratic Equation:\n",
      "ax^2+bx+c=0\n",
      "Enter value of a: 2\n",
      "Enter value of b: 5\n",
      "Enter value of c: 2\n",
      "Solution of quadratic equation:  -2.0 -8.0\n"
     ]
    }
   ],
   "source": [
    "import math as math\n",
    "print(\"Quadratic Equation:\\nax^2+bx+c=0\")\n",
    "a=float(input(\"Enter value of a: \"))\n",
    "b=float(input(\"Enter value of b: \"))\n",
    "c=float(input(\"Enter value of c: \"))\n",
    "x1=(-b+math.sqrt(b*b-4*a*c))/2*a\n",
    "x2=(-b-math.sqrt(b*b-4*a*c))/2*a\n",
    "if x1==x2:\n",
    "    print(\"Solution of the quadratic equation: \",x1)\n",
    "else:\n",
    "    print(\"Solution of quadratic equation: \",x1,x2)"
   ]
  },
  {
   "cell_type": "code",
   "execution_count": 12,
   "metadata": {},
   "outputs": [
    {
     "name": "stdout",
     "output_type": "stream",
     "text": [
      "Enter first number: 5\n",
      "Enter second number: 3\n",
      "Values after swapping:  3 5\n"
     ]
    }
   ],
   "source": [
    "a=int(input(\"Enter first number: \"))\n",
    "b=int(input(\"Enter second number: \"))\n",
    "a, b=b, a\n",
    "print(\"Values after swapping: \",a,b)"
   ]
  }
 ],
 "metadata": {
  "kernelspec": {
   "display_name": "Python 3",
   "language": "python",
   "name": "python3"
  },
  "language_info": {
   "codemirror_mode": {
    "name": "ipython",
    "version": 3
   },
   "file_extension": ".py",
   "mimetype": "text/x-python",
   "name": "python",
   "nbconvert_exporter": "python",
   "pygments_lexer": "ipython3",
   "version": "3.8.5"
  }
 },
 "nbformat": 4,
 "nbformat_minor": 4
}
