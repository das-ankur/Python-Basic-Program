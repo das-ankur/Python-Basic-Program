{
  "nbformat": 4,
  "nbformat_minor": 0,
  "metadata": {
    "colab": {
      "name": "Assignment14.ipynb",
      "provenance": []
    },
    "kernelspec": {
      "name": "python3",
      "display_name": "Python 3"
    },
    "language_info": {
      "name": "python"
    }
  },
  "cells": [
    {
      "cell_type": "markdown",
      "metadata": {
        "id": "k4Vw6rRhjmH8"
      },
      "source": [
        "## **Assignment 13**"
      ]
    },
    {
      "cell_type": "markdown",
      "metadata": {
        "id": "U9psY2WBjjIQ"
      },
      "source": [
        "Define a class with a generator which can iterate the numbers, which are divisible by\n",
        "7, between a given range 0 and n."
      ]
    },
    {
      "cell_type": "code",
      "metadata": {
        "colab": {
          "base_uri": "https://localhost:8080/"
        },
        "id": "uYf9SHA2jcLo",
        "outputId": "e857f565-61dc-45b1-b1d1-a7b2771db92c"
      },
      "source": [
        "class iterator(object):\n",
        "\t\"\"\"docstring for iterator\"\"\"\n",
        "\tdef __init__(self, n):\n",
        "\t\tsuper(iterator, self).__init__()\n",
        "\t\tself.n = n\n",
        "\t\t\n",
        "\tdef divBySeven(self):\n",
        "\t\tfor i in range(0, self.n):\n",
        "\t\t\tif i % 7 == 0:\n",
        "\t\t\t\tyield i\n",
        "#driver program\n",
        "for num in iterator(int(input(\"Enter a number: \"))).divBySeven():\n",
        "\tprint(num)"
      ],
      "execution_count": null,
      "outputs": [
        {
          "output_type": "stream",
          "text": [
            "Enter a number: 100\n",
            "0\n",
            "7\n",
            "14\n",
            "21\n",
            "28\n",
            "35\n",
            "42\n",
            "49\n",
            "56\n",
            "63\n",
            "70\n",
            "77\n",
            "84\n",
            "91\n",
            "98\n"
          ],
          "name": "stdout"
        }
      ]
    },
    {
      "cell_type": "markdown",
      "metadata": {
        "id": "YERMydsOkyFM"
      },
      "source": [
        "Write a program to compute the frequency of the words from the input. The output\n",
        "should output after sorting the key alphanumerically."
      ]
    },
    {
      "cell_type": "code",
      "metadata": {
        "colab": {
          "base_uri": "https://localhost:8080/"
        },
        "id": "3JT4VfqqkEYp",
        "outputId": "2b76b21d-d17a-41e8-96be-0f7b79cb2d08"
      },
      "source": [
        "import string\n",
        "from collections import OrderedDict\n",
        "text = \"My name is Ankur. My hobby is AI\"\n",
        "d = dict()\n",
        "for line in text:\n",
        "    line = line.strip()\n",
        "    line = line.lower()\n",
        "    words = line.split()\n",
        "    for word in words:\n",
        "        if word in d:\n",
        "            d[word] = d[word] + 1\n",
        "        else:\n",
        "            d[word] = 1\n",
        "# Print the contents of dictionary\n",
        "print(d)"
      ],
      "execution_count": null,
      "outputs": [
        {
          "output_type": "stream",
          "text": [
            "{'m': 3, 'y': 3, 'n': 2, 'a': 3, 'e': 1, 'i': 3, 's': 2, 'k': 1, 'u': 1, 'r': 1, '.': 1, 'h': 1, 'o': 1, 'b': 2}\n"
          ],
          "name": "stdout"
        }
      ]
    },
    {
      "cell_type": "markdown",
      "metadata": {
        "id": "av8yaLOHooxF"
      },
      "source": [
        "Define a class Person and its two child classes: Male and Female. All classes have a\n",
        "method &quot;getGender&quot; which can print &quot;Male&quot; for Male class and &quot;Female&quot; for Female\n",
        "class."
      ]
    },
    {
      "cell_type": "code",
      "metadata": {
        "id": "x5iBKeCNmU6p"
      },
      "source": [
        "class Person:\n",
        "  def __init__(self, gender):\n",
        "    self.gender = gender\n",
        "class Male(Person):\n",
        "  def __init__(self):\n",
        "    super().__init__(\"Male\")\n",
        "  def getGender(self):\n",
        "    return self.gender\n",
        "class Female(Person):\n",
        "  def __init__(self):\n",
        "    super().__init__(\"Female\")\n",
        "  def getGender(self):\n",
        "    return self.gender"
      ],
      "execution_count": null,
      "outputs": []
    },
    {
      "cell_type": "markdown",
      "metadata": {
        "id": "LitN2u5Bp3py"
      },
      "source": [
        "Please write a program to generate all sentences where subject is in [&quot;I&quot;, &quot;You&quot;] and\n",
        "verb is in [&quot;Play&quot;, &quot;Love&quot;] and the object is in [&quot;Hockey&quot;,&quot;Football&quot;]."
      ]
    },
    {
      "cell_type": "code",
      "metadata": {
        "colab": {
          "base_uri": "https://localhost:8080/"
        },
        "id": "pw3cWzqEp2Fs",
        "outputId": "578f060d-b44a-4eb0-e8fc-eefea1c2e313"
      },
      "source": [
        "subject=[\"I\", \"You\"]\n",
        "verb=[\"Play\", \"Love\"]\n",
        "obj=[\"Hockey\",\"Football\"]\n",
        "# Use list comprehension instead of looping over each of the predicates\n",
        "sentence_list = [(sub+\" \"+ vb + \" \" + ob) for sub in subject for vb in verb for ob in obj]\n",
        "for sentence in sentence_list:\n",
        " print (sentence)"
      ],
      "execution_count": null,
      "outputs": [
        {
          "output_type": "stream",
          "text": [
            "I Play Hockey\n",
            "I Play Football\n",
            "I Love Hockey\n",
            "I Love Football\n",
            "You Play Hockey\n",
            "You Play Football\n",
            "You Love Hockey\n",
            "You Love Football\n"
          ],
          "name": "stdout"
        }
      ]
    },
    {
      "cell_type": "markdown",
      "metadata": {
        "id": "KgPhRBniqXdV"
      },
      "source": [
        "Please write a program to compress and decompress the string &quot;hello world!hello\n",
        "world!hello world!hello world!&quot;."
      ]
    },
    {
      "cell_type": "code",
      "metadata": {
        "colab": {
          "base_uri": "https://localhost:8080/"
        },
        "id": "ERxGmL_JqTRF",
        "outputId": "6d118c82-745e-49bc-e5ef-aca2eff7bcd4"
      },
      "source": [
        "s = 'hello world!hello world!hello world!hello world!'\n",
        "# In Python 3 zlib.compress() accepts only DataType <bytes>\n",
        "y = bytes(s, 'utf-8')\n",
        "x = zlib.compress(y)\n",
        "print(x)\n",
        "print(zlib.decompress(x))"
      ],
      "execution_count": null,
      "outputs": [
        {
          "output_type": "stream",
          "text": [
            "b'x\\x9c\\xcbH\\xcd\\xc9\\xc9W(\\xcf/\\xcaIQ\\xcc \\x82\\r\\x00\\xbd[\\x11\\xf5'\n",
            "b'hello world!hello world!hello world!hello world!'\n"
          ],
          "name": "stdout"
        }
      ]
    },
    {
      "cell_type": "markdown",
      "metadata": {
        "id": "8NEPeBM_q4j9"
      },
      "source": [
        "Please write a binary search function which searches an item in a sorted list. The\n",
        "function should return the index of element to be searched in the list."
      ]
    },
    {
      "cell_type": "code",
      "metadata": {
        "colab": {
          "base_uri": "https://localhost:8080/"
        },
        "id": "muVNbhrNqjy5",
        "outputId": "98eda1d5-76f3-4059-9b53-73d3f0385c79"
      },
      "source": [
        "def binarySearch (arr, l, r, x):\n",
        "    if r >= l:\n",
        "        mid = l + (r - l) // 2\n",
        "        if arr[mid] == x:\n",
        "            return mid\n",
        "        elif arr[mid] > x:\n",
        "            return binarySearch(arr, l, mid-1, x)\n",
        "        else:\n",
        "            return binarySearch(arr, mid + 1, r, x)\n",
        "    else:\n",
        "        return -1\n",
        "# Driver Code\n",
        "arr = [ 2, 3, 4, 10, 40 ]\n",
        "x = 10\n",
        "# Function call\n",
        "result = binarySearch(arr, 0, len(arr)-1, x)\n",
        "if result != -1:\n",
        "    print (\"Element is present at index % d\" % result)\n",
        "else:\n",
        "    print (\"Element is not present in array\")"
      ],
      "execution_count": null,
      "outputs": [
        {
          "output_type": "stream",
          "text": [
            "Element is present at index  3\n"
          ],
          "name": "stdout"
        }
      ]
    }
  ]
}