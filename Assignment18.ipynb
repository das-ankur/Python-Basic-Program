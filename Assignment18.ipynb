{
 "cells": [
  {
   "cell_type": "code",
   "execution_count": 8,
   "metadata": {},
   "outputs": [
    {
     "name": "stdout",
     "output_type": "stream",
     "text": [
      "[1, 2]\n"
     ]
    }
   ],
   "source": [
    "#Create a function that takes a list of non-negative integers and strings and return a new list\n",
    "#without the strings.\n",
    "l = [1,2,'a','b']\n",
    "def filter_list(l):\n",
    "    new_list = []\n",
    "    for x in l:\n",
    "        if type(x) == int:\n",
    "            new_list.append(x)\n",
    "    return new_list\n",
    "\n",
    "print(filter_list(l))"
   ]
  },
  {
   "cell_type": "code",
   "execution_count": 9,
   "metadata": {
    "scrolled": true
   },
   "outputs": [
    {
     "name": "stdout",
     "output_type": "stream",
     "text": [
      "Enter a string: Ankur Das\n",
      "SAd RUKNa\n"
     ]
    }
   ],
   "source": [
    "#The Reverser takes a string as input and returns that string in reverse order, with the\n",
    "#opposite case.\n",
    "print(input(\"Enter a string: \").swapcase()[::-1])"
   ]
  },
  {
   "cell_type": "code",
   "execution_count": 14,
   "metadata": {},
   "outputs": [
    {
     "name": "stdout",
     "output_type": "stream",
     "text": [
      "Enter the elements of the list: 5 7 2 1 3 4 6\n",
      "First:  5\n",
      "Last:  6\n",
      "Middle:  [7, 2, 1, 3, 4]\n"
     ]
    }
   ],
   "source": [
    "#With Python 3, you can assign variables from lists in a much more succinct way. Create\n",
    "#variables first, middle and last from the given list using destructuring assignment\n",
    "#(check the Resources tab for some examples), where:\n",
    "#first ➞ 1\n",
    "#middle ➞ [2, 3, 4, 5]\n",
    "#last ➞ 6\n",
    "l = [int(i) for i in input(\"Enter the elements of the list: \").split()]\n",
    "first = l[0]\n",
    "last = l[-1]\n",
    "l.pop()\n",
    "l.pop(0)\n",
    "middle = l\n",
    "print(\"First: \",first)\n",
    "print(\"Last: \",last)\n",
    "print(\"Middle: \",middle)"
   ]
  },
  {
   "cell_type": "code",
   "execution_count": 15,
   "metadata": {},
   "outputs": [
    {
     "name": "stdout",
     "output_type": "stream",
     "text": [
      "Enter a number: 5\n",
      "number :  5\n",
      "Factorial :  120\n"
     ]
    }
   ],
   "source": [
    "#Write a function that calculates the factorial of a number recursively.\n",
    "def factorial(n): \n",
    "    if (n==1 or n==0):\n",
    "        return 1\n",
    "    else:  \n",
    "        return (n * factorial(n - 1)) \n",
    "# Driver Code \n",
    "num = int(input(\"Enter a number: \")) \n",
    "print(\"number : \",num)\n",
    "print(\"Factorial : \",factorial(num))"
   ]
  },
  {
   "cell_type": "code",
   "execution_count": 16,
   "metadata": {},
   "outputs": [
    {
     "name": "stdout",
     "output_type": "stream",
     "text": [
      "Modified list is:  [1, 2, 3, 4, 4, 5, 6, 'Ankur', 7, 9]\n"
     ]
    }
   ],
   "source": [
    "#Write a function that moves all elements of one type to the end of the list.\n",
    "def moveEndList(l):\n",
    "    new_list = []\n",
    "    for i in l:\n",
    "        if type(i)==list or type(i)==tuple:\n",
    "            for j in i:\n",
    "                new_list.append(j)\n",
    "        else:\n",
    "            new_list.append(i)\n",
    "    return new_list\n",
    "#driver function\n",
    "l = [[1, 2, 3, 4], (4, 5, 6), 'Ankur', 7, 9]\n",
    "print(\"Modified list is: \",moveEndList(l))"
   ]
  }
 ],
 "metadata": {
  "kernelspec": {
   "display_name": "Python 3",
   "language": "python",
   "name": "python3"
  },
  "language_info": {
   "codemirror_mode": {
    "name": "ipython",
    "version": 3
   },
   "file_extension": ".py",
   "mimetype": "text/x-python",
   "name": "python",
   "nbconvert_exporter": "python",
   "pygments_lexer": "ipython3",
   "version": "3.8.5"
  }
 },
 "nbformat": 4,
 "nbformat_minor": 4
}
