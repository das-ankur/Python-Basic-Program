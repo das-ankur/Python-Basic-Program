{
 "cells": [
  {
   "cell_type": "code",
   "execution_count": 1,
   "metadata": {},
   "outputs": [
    {
     "name": "stdout",
     "output_type": "stream",
     "text": [
      "Enter a string: Ankur\n",
      "The modified string is:  AAnnkkuurr\n"
     ]
    }
   ],
   "source": [
    "#Create a function that takes a string and returns a string in which each character is repeated\n",
    "#once.\n",
    "s = input(\"Enter a string: \")\n",
    "new_str = \"\"\n",
    "for i in s:\n",
    "    new_str+= i*2\n",
    "print(\"The modified string is: \", new_str)"
   ]
  },
  {
   "cell_type": "code",
   "execution_count": 5,
   "metadata": {},
   "outputs": [
    {
     "name": "stdout",
     "output_type": "stream",
     "text": [
      "Test 1:  False\n",
      "Test 2:  True\n",
      "Test 3:  boolean expected\n"
     ]
    }
   ],
   "source": [
    "#Create a function that reverses a boolean value and returns the string &quot;boolean expected&quot;\n",
    "#if another variable type is given.\n",
    "def reverse_boolean(b):\n",
    "    if type(b)==bool:\n",
    "        return not b\n",
    "    else:\n",
    "        return \"boolean expected\"\n",
    "#driver_function\n",
    "print(\"Test 1: \",reverse_boolean(True))\n",
    "print(\"Test 2: \",reverse_boolean(False))\n",
    "print(\"Test 3: \",reverse_boolean(5))"
   ]
  },
  {
   "cell_type": "code",
   "execution_count": 11,
   "metadata": {},
   "outputs": [
    {
     "name": "stdout",
     "output_type": "stream",
     "text": [
      "Enter the thickness of the paper:0.011\n",
      "Enter no. of folds: 4\n",
      "Final thickness of the paper:  0.088 mm\n"
     ]
    }
   ],
   "source": [
    "#Create a function that returns the thickness (in meters) of a piece of paper after folding it n\n",
    "#number of times. The paper starts off with a thickness of 0.5mm.\n",
    "def paper_thickness(t, f):\n",
    "    for i in range(f-1):\n",
    "        t*=2\n",
    "    return t\n",
    "#driver function\n",
    "t = float(input(\"Enter the thickness of the paper:\"))\n",
    "f = int(input(\"Enter no. of folds: \"))\n",
    "print(\"Final thickness of the paper: \",paper_thickness(t, f),\"mm\")"
   ]
  },
  {
   "cell_type": "code",
   "execution_count": 15,
   "metadata": {},
   "outputs": [
    {
     "name": "stdout",
     "output_type": "stream",
     "text": [
      "Enter a string: Ankur Das\n",
      "The original string is : Ankur Das\n",
      "Uppercase elements indices : [0, 6]\n"
     ]
    }
   ],
   "source": [
    "#Create a function that takes a single string as argument and returns an ordered list containing\n",
    "#the indices of all capital letters in the string.\n",
    "test_str = input(\"Enter a string: \")\n",
    "print(\"The original string is : \" + str(test_str))\n",
    "res = [idx for idx in range(len(test_str)) if test_str[idx].isupper()] \n",
    "print(\"Uppercase elements indices : \" + str(res))"
   ]
  },
  {
   "cell_type": "code",
   "execution_count": 16,
   "metadata": {},
   "outputs": [
    {
     "name": "stdout",
     "output_type": "stream",
     "text": [
      "Enter a number: 10\n",
      "All the even numbers are:  [0, 2, 4, 6, 8, 10]\n"
     ]
    }
   ],
   "source": [
    "#Using list comprehensions, create a function that finds all even numbers from 1 to the given\n",
    "#number.\n",
    "def find_even_nos(n):\n",
    "    return [i for i in range(n+1) if i%2==0]\n",
    "#driver function\n",
    "n = int(input(\"Enter a number: \"))\n",
    "print(\"All the even numbers are: \",find_even_nos(n))"
   ]
  }
 ],
 "metadata": {
  "kernelspec": {
   "display_name": "Python 3",
   "language": "python",
   "name": "python3"
  },
  "language_info": {
   "codemirror_mode": {
    "name": "ipython",
    "version": 3
   },
   "file_extension": ".py",
   "mimetype": "text/x-python",
   "name": "python",
   "nbconvert_exporter": "python",
   "pygments_lexer": "ipython3",
   "version": "3.8.5"
  }
 },
 "nbformat": 4,
 "nbformat_minor": 4
}
