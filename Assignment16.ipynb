{
  "nbformat": 4,
  "nbformat_minor": 0,
  "metadata": {
    "colab": {
      "name": "Untitled29.ipynb",
      "provenance": []
    },
    "kernelspec": {
      "name": "python3",
      "display_name": "Python 3"
    },
    "language_info": {
      "name": "python"
    }
  },
  "cells": [
    {
      "cell_type": "markdown",
      "metadata": {
        "id": "KPZAXfVEf1BL"
      },
      "source": [
        "## **Assignment 16**"
      ]
    },
    {
      "cell_type": "markdown",
      "metadata": {
        "id": "J6jl7puef_jg"
      },
      "source": [
        "Write a function that stutters a word as if someone is struggling to read it. The\n",
        "first two letters are repeated twice with an ellipsis ... and space after each, and then the\n",
        "word is pronounced with a question mark ?."
      ]
    },
    {
      "cell_type": "code",
      "metadata": {
        "colab": {
          "base_uri": "https://localhost:8080/"
        },
        "id": "_MFDtDGLfzbQ",
        "outputId": "6f24f01b-b7f5-46a9-88d5-25c1e20b5a8d"
      },
      "source": [
        "def slutter(s):\n",
        "  return s[0] + s[1] + \"...\" + s[0] + s[1] + \"...\" + s\n",
        "#driver function\n",
        "print(slutter(input(\"Enter a word of length more than 2 words: \")))"
      ],
      "execution_count": 6,
      "outputs": [
        {
          "output_type": "stream",
          "text": [
            "Enter a word of length more than 2 words: incredible\n",
            "in...in...incredible\n"
          ],
          "name": "stdout"
        }
      ]
    },
    {
      "cell_type": "markdown",
      "metadata": {
        "id": "_hmQrz01kWBx"
      },
      "source": [
        "Create a function that takes an angle in radians and returns the corresponding\n",
        "angle in degrees rounded to one decimal place."
      ]
    },
    {
      "cell_type": "code",
      "metadata": {
        "colab": {
          "base_uri": "https://localhost:8080/"
        },
        "id": "1l1iE7Y7hLMq",
        "outputId": "82ddda69-7c70-4593-8643-2dcdc5308c2d"
      },
      "source": [
        "def radian_to_degree(x):\n",
        "  return x*180*7/22\n",
        "#driver function\n",
        "print(\"Degree: \",radian_to_degree(int(input(\"Enter  value in radian: \"))))"
      ],
      "execution_count": 9,
      "outputs": [
        {
          "output_type": "stream",
          "text": [
            "Enter  value in radian: 1\n",
            "Degree:  57.27272727272727\n"
          ],
          "name": "stdout"
        }
      ]
    },
    {
      "cell_type": "markdown",
      "metadata": {
        "id": "vqilwjFGlHX9"
      },
      "source": [
        "In this challenge, establish if a given integer num is a Curzon number. If 1 plus\n",
        "2 elevated to num is exactly divisible by 1 plus 2 multiplied by num, then num is a Curzon\n",
        "number.\n",
        "Given a non-negative integer num, implement a function that returns True if num is a Curzon\n",
        "number, or False otherwise."
      ]
    },
    {
      "cell_type": "code",
      "metadata": {
        "colab": {
          "base_uri": "https://localhost:8080/"
        },
        "id": "RfZMFbN1kpN3",
        "outputId": "e033d570-7c57-4158-df84-292b01d421ab"
      },
      "source": [
        "def checkIfCurzonNumber(N):\n",
        "    if N<0:\n",
        "      return False\n",
        "    powerTerm, productTerm = 0, 0\n",
        "    powerTerm = pow(2, N) + 1\n",
        "    productTerm = 2 * N + 1\n",
        "    return powerTerm % productTerm == 0\n",
        "# Driver code\n",
        "if __name__ == '__main__':\n",
        "  print(checkIfCurzonNumber(int(input(\"Enter a number: \"))))"
      ],
      "execution_count": 10,
      "outputs": [
        {
          "output_type": "stream",
          "text": [
            "Enter a number: 5\n",
            "True\n"
          ],
          "name": "stdout"
        }
      ]
    },
    {
      "cell_type": "markdown",
      "metadata": {
        "id": "VumMxeJVlnZ2"
      },
      "source": [
        "Given the side length x find the area of a hexagon."
      ]
    },
    {
      "cell_type": "code",
      "metadata": {
        "colab": {
          "base_uri": "https://localhost:8080/"
        },
        "id": "ABqgPU-tlggx",
        "outputId": "f170baa9-1c00-413b-a71d-29bfbb5122d2"
      },
      "source": [
        "import math\n",
        "def hexagonArea(s):\n",
        "    return ((3 * math.sqrt(3) * (s * s)) / 2);\n",
        "# Driver code    \n",
        "if __name__ == \"__main__\" :\n",
        "    print(\"Area:\",\"{0:.4f}\" .format(hexagonArea(float(input(\"Enter length of  the side: \")))))"
      ],
      "execution_count": 11,
      "outputs": [
        {
          "output_type": "stream",
          "text": [
            "Enter length of  the side: 4\n",
            "Area: 41.5692\n"
          ],
          "name": "stdout"
        }
      ]
    },
    {
      "cell_type": "markdown",
      "metadata": {
        "id": "5HYA6zzQmbMb"
      },
      "source": [
        "Create a function that returns a base-2 (binary) representation of a base-10\n",
        "(decimal) string number. To convert is simple: ((2) means base-2 and (10) means base-10)\n",
        "010101001(2) = 1 + 8 + 32 + 128.\n",
        "Going from right to left, the value of the most right bit is 1, now from that every bit to the left\n",
        "will be x2 the value, value of an 8 bit binary numbers are (256, 128, 64, 32, 16, 8, 4, 2, 1)."
      ]
    },
    {
      "cell_type": "code",
      "metadata": {
        "colab": {
          "base_uri": "https://localhost:8080/"
        },
        "id": "dF1vBpLgmWov",
        "outputId": "4f997622-7b90-4908-f5db-8b96633f57da"
      },
      "source": [
        "def binaryToDecimal(n):\n",
        "    return int(n,2)\n",
        "# Driver code\n",
        "if __name__ == '__main__':\n",
        "    print(\"Decimal: \", binaryToDecimal(input(\"Enter binary number: \")))"
      ],
      "execution_count": 12,
      "outputs": [
        {
          "output_type": "stream",
          "text": [
            "Enter binary number: 101\n",
            "Decimal:  5\n"
          ],
          "name": "stdout"
        }
      ]
    }
  ]
}