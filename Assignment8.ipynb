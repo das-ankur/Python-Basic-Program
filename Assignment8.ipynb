{
  "nbformat": 4,
  "nbformat_minor": 0,
  "metadata": {
    "colab": {
      "name": "Assignment8.ipynb",
      "provenance": [],
      "collapsed_sections": []
    },
    "kernelspec": {
      "name": "python3",
      "display_name": "Python 3"
    },
    "language_info": {
      "name": "python"
    }
  },
  "cells": [
    {
      "cell_type": "code",
      "metadata": {
        "colab": {
          "base_uri": "https://localhost:8080/"
        },
        "id": "iccgfo_mCFJ5",
        "outputId": "16fe413b-9d03-434a-9edc-22891860c972"
      },
      "source": [
        "#Addition of Matrix\n",
        "import numpy as np\n",
        "r1=int(input(\"Enter the number of rows of first matrix:\"))\n",
        "c1=int(input(\"Enter the number of columns of first matrix:\"))\n",
        "matrix1=[]\n",
        "print(\"Enter the integers rowwise:\")\n",
        "for i in range(r1):          \n",
        "    temp=[]\n",
        "    for j in range(c1):\n",
        "         temp.append(int(input()))\n",
        "    matrix1.append(temp)\n",
        "r2=int(input(\"Enter the number of rows of second matrix:\"))\n",
        "c2=int(input(\"Enter the number of columns of second matrix:\"))\n",
        "matrix2=[]\n",
        "print(\"Enter the integers rowwise:\")\n",
        "for i in range(r2):          \n",
        "    temp=[]\n",
        "    for j in range(c2):\n",
        "         temp.append(int(input()))\n",
        "    matrix2.append(temp)\n",
        "if r1!=r2 or c1!=c2:\n",
        "  print(\"Addition is not possible.\")\n",
        "else:\n",
        "  res=np.add(matrix1, matrix2)\n",
        "  print(\"Summation of two matrices:\")\n",
        "  for i in res:\n",
        "    for j in i:\n",
        "      print(j, end='\\t')\n",
        "    print()"
      ],
      "execution_count": 7,
      "outputs": [
        {
          "output_type": "stream",
          "text": [
            "Enter the number of rows of first matrix:3\n",
            "Enter the number of columns of first matrix:3\n",
            "Enter the integers rowwise:\n",
            "1\n",
            "2\n",
            "3\n",
            "4\n",
            "5\n",
            "6\n",
            "7\n",
            "8\n",
            "9\n",
            "Enter the number of rows of second matrix:3\n",
            "Enter the number of columns of second matrix:2\n",
            "Enter the integers rowwise:\n",
            "1\n",
            "2\n",
            "3\n",
            "4\n",
            "5\n",
            "6\n",
            "Addition is not possible.\n"
          ],
          "name": "stdout"
        }
      ]
    },
    {
      "cell_type": "code",
      "metadata": {
        "colab": {
          "base_uri": "https://localhost:8080/"
        },
        "id": "zQ10HEiHEI6n",
        "outputId": "e058b57d-d653-46c1-dd73-23081c3f6673"
      },
      "source": [
        "#Multiplication of two matrices\n",
        "import numpy as np\n",
        "r1=int(input(\"Enter the number of rows of first matrix:\"))\n",
        "c1=int(input(\"Enter the number of columns of first matrix:\"))\n",
        "matrix1=[]\n",
        "print(\"Enter the integers rowwise:\")\n",
        "for i in range(r1):          \n",
        "    temp=[]\n",
        "    for j in range(c1):\n",
        "         temp.append(int(input()))\n",
        "    matrix1.append(temp)\n",
        "r2=int(input(\"Enter the number of rows of second matrix:\"))\n",
        "c2=int(input(\"Enter the number of columns of second matrix:\"))\n",
        "matrix2=[]\n",
        "print(\"Enter the integers rowwise:\")\n",
        "for i in range(r2):          \n",
        "    temp=[]\n",
        "    for j in range(c2):\n",
        "         temp.append(int(input()))\n",
        "    matrix2.append(temp)\n",
        "if c1!=r2:\n",
        "  print(\"Multiplication is not possible.\")\n",
        "else:\n",
        "  res=np.dot(matrix1, matrix2)\n",
        "  print(\"Product of two matrices:\")\n",
        "  for i in res:\n",
        "    for j in i:\n",
        "      print(j, end='\\t')\n",
        "    print()"
      ],
      "execution_count": 10,
      "outputs": [
        {
          "output_type": "stream",
          "text": [
            "Enter the number of rows of first matrix:2\n",
            "Enter the number of columns of first matrix:2\n",
            "Enter the integers rowwise:\n",
            "3\n",
            "6\n",
            "4\n",
            "2\n",
            "Enter the number of rows of second matrix:2\n",
            "Enter the number of columns of second matrix:3\n",
            "Enter the integers rowwise:\n",
            "6\n",
            "7\n",
            "3\n",
            "5\n",
            "1\n",
            "6\n",
            "Product of two matrices:\n",
            "48\t27\t45\t\n",
            "34\t30\t24\t\n"
          ],
          "name": "stdout"
        }
      ]
    },
    {
      "cell_type": "code",
      "metadata": {
        "colab": {
          "base_uri": "https://localhost:8080/"
        },
        "id": "VsiSwdIaGVga",
        "outputId": "c2e01071-1bb0-4683-8717-5d5583a82a44"
      },
      "source": [
        "#Transpose of Matrix\n",
        "import numpy as np\n",
        "r1=int(input(\"Enter the number of rows of first matrix:\"))\n",
        "c1=int(input(\"Enter the number of columns of first matrix:\"))\n",
        "matrix1=[]\n",
        "print(\"Enter the integers rowwise:\")\n",
        "for i in range(r1):          \n",
        "    temp=[]\n",
        "    for j in range(c1):\n",
        "         temp.append(int(input()))\n",
        "    matrix1.append(temp)\n",
        "res=np.transpose(matrix1)\n",
        "print(\"Transpose of the matrix:\")\n",
        "for i in res:\n",
        "  for j in i:\n",
        "    print(j, end='\\t')\n",
        "  print()"
      ],
      "execution_count": 11,
      "outputs": [
        {
          "output_type": "stream",
          "text": [
            "Enter the number of rows of first matrix:2\n",
            "Enter the number of columns of first matrix:2\n",
            "Enter the integers rowwise:\n",
            "1\n",
            "2\n",
            "3\n",
            "4\n",
            "Transpose of the matrix:\n",
            "1\t3\t\n",
            "2\t4\t\n"
          ],
          "name": "stdout"
        }
      ]
    },
    {
      "cell_type": "code",
      "metadata": {
        "colab": {
          "base_uri": "https://localhost:8080/"
        },
        "id": "ORyVMYMNHgk6",
        "outputId": "0cf9b327-6280-4767-9b5e-c43f5a07ac70"
      },
      "source": [
        "#Sorting of words\n",
        "text=input(\"Enter words seperated by space:\")\n",
        "words=text.split()\n",
        "print(\"Sorted list of words are: \")\n",
        "words.sort()\n",
        "print(words)"
      ],
      "execution_count": 14,
      "outputs": [
        {
          "output_type": "stream",
          "text": [
            "Enter words seperated by space:I want to learn and work on quantum AI\n",
            "Sorted list of words are: \n",
            "['AI', 'I', 'and', 'learn', 'on', 'quantum', 'to', 'want', 'work']\n"
          ],
          "name": "stdout"
        }
      ]
    },
    {
      "cell_type": "code",
      "metadata": {
        "colab": {
          "base_uri": "https://localhost:8080/"
        },
        "id": "FSOcEeU7IH7d",
        "outputId": "33ec6636-c1aa-4996-ba5f-6c8415bfa5d8"
      },
      "source": [
        "#Remove puntuation from a string\n",
        "text=input(\"Enter text: \")\n",
        "print(\"The original string is : \",text)\n",
        "punc='''!()-[]{};:'\"\\,<>./?@#$%^&*_~'''\n",
        "for ele in text:\n",
        "    if ele in punc: \n",
        "        text=text.replace(ele, \"\") \n",
        "print(\"The string after punctuation filter : \",text) "
      ],
      "execution_count": 16,
      "outputs": [
        {
          "output_type": "stream",
          "text": [
            "Enter text: ML, DL, AI, DS, CP\n",
            "The original string is :  ML, DL, AI, DS, CP\n",
            "The string after punctuation filter :  ML DL AI DS CP\n"
          ],
          "name": "stdout"
        }
      ]
    }
  ]
}