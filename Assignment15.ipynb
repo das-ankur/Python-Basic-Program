{
  "nbformat": 4,
  "nbformat_minor": 0,
  "metadata": {
    "colab": {
      "name": "Assignment15.ipynb",
      "provenance": []
    },
    "kernelspec": {
      "name": "python3",
      "display_name": "Python 3"
    },
    "language_info": {
      "name": "python"
    }
  },
  "cells": [
    {
      "cell_type": "markdown",
      "metadata": {
        "id": "yWrFkZUxtWxF"
      },
      "source": [
        "Please write a program using generator to print the numbers which can be divisible by 5 and\n",
        "7 between 0 and n in comma separated form while n is input by console."
      ]
    },
    {
      "cell_type": "code",
      "metadata": {
        "colab": {
          "base_uri": "https://localhost:8080/"
        },
        "id": "SQk42pfmraE2",
        "outputId": "f235157e-2815-4f6e-e846-f3a5986f5eb6"
      },
      "source": [
        "class iterator(object):\n",
        "\t\"\"\"docstring for iterator\"\"\"\n",
        "\tdef __init__(self, n):\n",
        "\t\tsuper(iterator, self).__init__()\n",
        "\t\tself.n = n\n",
        "\t\t\n",
        "\tdef divBySevenAndFive(self):\n",
        "\t\tfor i in range(0, self.n):\n",
        "\t\t\tif i % 7 == 0 and i%5 == 0:\n",
        "\t\t\t\tyield i\n",
        "#driver program\n",
        "for num in iterator(int(input(\"Enter a number: \"))).divBySevenAndFive():\n",
        "\tprint(num)"
      ],
      "execution_count": 1,
      "outputs": [
        {
          "output_type": "stream",
          "text": [
            "Enter a number: 100\n",
            "0\n",
            "35\n",
            "70\n"
          ],
          "name": "stdout"
        }
      ]
    },
    {
      "cell_type": "markdown",
      "metadata": {
        "id": "oLxfeMsptpEi"
      },
      "source": [
        "Please write a program using generator to print the even numbers between 0 and n in comma\n",
        "separated form while n is input by console."
      ]
    },
    {
      "cell_type": "code",
      "metadata": {
        "colab": {
          "base_uri": "https://localhost:8080/"
        },
        "id": "zs66wlV2tmN5",
        "outputId": "dd15ff11-a39e-40a1-e923-e8570565e9f8"
      },
      "source": [
        "for x in range(2,int(input()),2): \n",
        "\tprint(x)"
      ],
      "execution_count": 2,
      "outputs": [
        {
          "output_type": "stream",
          "text": [
            "50\n",
            "2\n",
            "4\n",
            "6\n",
            "8\n",
            "10\n",
            "12\n",
            "14\n",
            "16\n",
            "18\n",
            "20\n",
            "22\n",
            "24\n",
            "26\n",
            "28\n",
            "30\n",
            "32\n",
            "34\n",
            "36\n",
            "38\n",
            "40\n",
            "42\n",
            "44\n",
            "46\n",
            "48\n"
          ],
          "name": "stdout"
        }
      ]
    },
    {
      "cell_type": "markdown",
      "metadata": {
        "id": "dbr0zsM9uST_"
      },
      "source": [
        "The Fibonacci Sequence is computed based on the following formula:\n",
        "f(n)=0 if n=0\n",
        "f(n)=1 if n=1\n",
        "f(n)=f(n-1)+f(n-2) if n&gt;1\n",
        "Please write a program using list comprehension to print the Fibonacci Sequence in comma\n",
        "separated form with a given n input by console."
      ]
    },
    {
      "cell_type": "code",
      "metadata": {
        "colab": {
          "base_uri": "https://localhost:8080/"
        },
        "id": "3ZDugdEiuQFy",
        "outputId": "d232fe90-ccc1-4e0c-9e4f-d3bb4348c35a"
      },
      "source": [
        "nterms = int(input(\"How many terms? \"))\n",
        "n1, n2 = 0, 1\n",
        "count = 0\n",
        "if nterms <= 0:\n",
        "   print(\"Please enter a positive integer\")\n",
        "elif nterms == 1:\n",
        "   print(\"Fibonacci sequence upto\",nterms,\":\")\n",
        "   print(n1)\n",
        "else:\n",
        "   print(\"Fibonacci sequence:\")\n",
        "   while count < nterms:\n",
        "       print(n1)\n",
        "       nth = n1 + n2\n",
        "       n1 = n2\n",
        "       n2 = nth\n",
        "       count += 1"
      ],
      "execution_count": 3,
      "outputs": [
        {
          "output_type": "stream",
          "text": [
            "How many terms? 7\n",
            "Fibonacci sequence:\n",
            "0\n",
            "1\n",
            "1\n",
            "2\n",
            "3\n",
            "5\n",
            "8\n"
          ],
          "name": "stdout"
        }
      ]
    },
    {
      "cell_type": "markdown",
      "metadata": {
        "id": "LWJT-msDuxiu"
      },
      "source": [
        "Assuming that we have some email addresses in the &quot;username@companyname.com&quot; format,\n",
        "please write program to print the user name of a given email address. Both user names and\n",
        "company names are composed of letters only.\n",
        "Example:\n",
        "If the following email address is given as input to the program:\n",
        "john@google.com\n",
        "Then, the output of the program should be:\n",
        "john"
      ]
    },
    {
      "cell_type": "code",
      "metadata": {
        "colab": {
          "base_uri": "https://localhost:8080/"
        },
        "id": "EKX9c60MuuuU",
        "outputId": "b8a5692b-f823-4778-ae12-d0c5eaecaf01"
      },
      "source": [
        "print(\"Username: \",input(\"Enter Email: \").split(\"@\")[0])"
      ],
      "execution_count": 4,
      "outputs": [
        {
          "output_type": "stream",
          "text": [
            "Enter Email: onkur@gmail.com\n",
            "Username:  onkur\n"
          ],
          "name": "stdout"
        }
      ]
    },
    {
      "cell_type": "markdown",
      "metadata": {
        "id": "4V5GzptGvYM1"
      },
      "source": [
        "Define a class named Shape and its subclass Square. The Square class has an init function\n",
        "which takes a length as argument. Both classes have a area function which can print the area\n",
        "of the shape where Shape&#39;s area is 0 by default."
      ]
    },
    {
      "cell_type": "code",
      "metadata": {
        "id": "AgSbA1bZvTtL"
      },
      "source": [
        "class Shape():\n",
        "  def __init__(self, s):\n",
        "    self.s = 0\n",
        "    return self.s * self.s\n",
        "class Square(Shape):\n",
        "  def __init__(self, s):\n",
        "    super().__init__(s)"
      ],
      "execution_count": 5,
      "outputs": []
    }
  ]
}