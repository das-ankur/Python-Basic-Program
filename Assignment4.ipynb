{
 "cells": [
  {
   "cell_type": "code",
   "execution_count": 8,
   "metadata": {},
   "outputs": [
    {
     "name": "stdout",
     "output_type": "stream",
     "text": [
      "Enter a number: 5\n",
      "Factorial is:  120\n"
     ]
    }
   ],
   "source": [
    "#Factorial of a number\n",
    "n=int(input(\"Enter a number: \"))\n",
    "if(n<0):\n",
    "    print(\"Invalid Input!\")\n",
    "else:\n",
    "    fact=1\n",
    "    for i in range(2, n+1):\n",
    "        fact*=i\n",
    "    else:\n",
    "        print(\"Factorial is: \",fact)"
   ]
  },
  {
   "cell_type": "code",
   "execution_count": 10,
   "metadata": {},
   "outputs": [
    {
     "name": "stdout",
     "output_type": "stream",
     "text": [
      "Show the multiplication table of: 12\n",
      "12 x 1 = 12\n",
      "12 x 2 = 24\n",
      "12 x 3 = 36\n",
      "12 x 4 = 48\n",
      "12 x 5 = 60\n",
      "12 x 6 = 72\n",
      "12 x 7 = 84\n",
      "12 x 8 = 96\n",
      "12 x 9 = 108\n",
      "12 x 10 = 120\n"
     ]
    }
   ],
   "source": [
    "#Multiplication Table\n",
    "num = int(input(\"Show the multiplication table of: \"))\n",
    "for i in range(1,11):  \n",
    "   print(num,'x',i,'=',num*i)"
   ]
  },
  {
   "cell_type": "code",
   "execution_count": 13,
   "metadata": {},
   "outputs": [
    {
     "name": "stdout",
     "output_type": "stream",
     "text": [
      "Enter the terms: 5\n",
      "0 1 1 2 3 "
     ]
    }
   ],
   "source": [
    "#Fibonacci Sequence\n",
    "a=int(input(\"Enter the terms: \"))\n",
    "f=0                                         \n",
    "s=1                                         \n",
    "if a<=0:\n",
    "    print(\"The requested series is: \",f)\n",
    "else:\n",
    "    print(f,s,end=\" \")\n",
    "    for x in range(2,a):\n",
    "        next=f+s                           \n",
    "        print(next,end=\" \")\n",
    "        f=s\n",
    "        s=next"
   ]
  },
  {
   "cell_type": "code",
   "execution_count": 14,
   "metadata": {},
   "outputs": [
    {
     "name": "stdout",
     "output_type": "stream",
     "text": [
      "\n",
      "Please Enter the Number to Check for Armstrong: 153\n",
      "\n",
      " 153 is Armstrong Number.\n",
      "\n"
     ]
    }
   ],
   "source": [
    "#Armstrong Number\n",
    "Number = int(input(\"\\nPlease Enter the Number to Check for Armstrong: \"))\n",
    "Sum = 0\n",
    "Times = 0\n",
    "Temp = Number\n",
    "while Temp > 0:\n",
    "           Times = Times + 1\n",
    "           Temp = Temp // 10\n",
    "Temp = Number\n",
    "while Temp > 0:\n",
    "           Reminder = Temp % 10\n",
    "           Sum = Sum + (Reminder ** Times)\n",
    "           Temp //= 10\n",
    "if Number == Sum:\n",
    "           print(\"\\n %d is Armstrong Number.\\n\" %Number)\n",
    "else:\n",
    "           print(\"\\n %d is Not a Armstrong Number.\\n\" %Number)"
   ]
  },
  {
   "cell_type": "code",
   "execution_count": 16,
   "metadata": {},
   "outputs": [
    {
     "name": "stdout",
     "output_type": "stream",
     "text": [
      "Enter number of terms: 3\n",
      "Summation is:  6.0\n"
     ]
    }
   ],
   "source": [
    "#Sum of natural numbers\n",
    "n=int(input(\"Enter number of terms: \"))\n",
    "if n<0:\n",
    "    print(\"Invalid Input!\")\n",
    "else:\n",
    "    s=n*(n+1)/2\n",
    "    print(\"Summation is: \",s)"
   ]
  }
 ],
 "metadata": {
  "kernelspec": {
   "display_name": "Python 3",
   "language": "python",
   "name": "python3"
  },
  "language_info": {
   "codemirror_mode": {
    "name": "ipython",
    "version": 3
   },
   "file_extension": ".py",
   "mimetype": "text/x-python",
   "name": "python",
   "nbconvert_exporter": "python",
   "pygments_lexer": "ipython3",
   "version": "3.8.5"
  }
 },
 "nbformat": 4,
 "nbformat_minor": 4
}
