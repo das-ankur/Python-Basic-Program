{
  "nbformat": 4,
  "nbformat_minor": 0,
  "metadata": {
    "colab": {
      "name": "Assignment25.ipynb",
      "provenance": []
    },
    "kernelspec": {
      "name": "python3",
      "display_name": "Python 3"
    },
    "language_info": {
      "name": "python"
    }
  },
  "cells": [
    {
      "cell_type": "markdown",
      "metadata": {
        "id": "KBmCNRnQh8Dg"
      },
      "source": [
        "Create a function that takes three integer arguments (a, b, c) and returns the amount of\n",
        "integers which are of equal value."
      ]
    },
    {
      "cell_type": "code",
      "metadata": {
        "colab": {
          "base_uri": "https://localhost:8080/"
        },
        "id": "od8ylYYShAu4",
        "outputId": "4844dbbd-b539-4cfe-9b48-e864d8b5c783"
      },
      "source": [
        "l = [int(i) for i in input(\"Enter three values: \").split()]\n",
        "m = 0\n",
        "for i in l:\n",
        "  if m < l.count(i):\n",
        "    m = l.count(i)\n",
        "print(m)"
      ],
      "execution_count": 1,
      "outputs": [
        {
          "output_type": "stream",
          "text": [
            "Enter three values: 3 3 1\n",
            "2\n"
          ],
          "name": "stdout"
        }
      ]
    },
    {
      "cell_type": "markdown",
      "metadata": {
        "id": "P8N76izViflV"
      },
      "source": [
        "Write a function that converts a dictionary into a list of keys-values tuples."
      ]
    },
    {
      "cell_type": "code",
      "metadata": {
        "colab": {
          "base_uri": "https://localhost:8080/"
        },
        "id": "g6xbm421ieB9",
        "outputId": "29b40847-6e05-443c-d6b8-88803e2b3892"
      },
      "source": [
        "dict = { 'a': 10, 'b': 12, 'c': 31 }\n",
        "list = [(k, v) for k, v in dict.items()]\n",
        "print(list)"
      ],
      "execution_count": 2,
      "outputs": [
        {
          "output_type": "stream",
          "text": [
            "[('a', 10), ('b', 12), ('c', 31)]\n"
          ],
          "name": "stdout"
        }
      ]
    },
    {
      "cell_type": "markdown",
      "metadata": {
        "id": "Z8lou3zqi5S4"
      },
      "source": [
        "Write a function that creates a dictionary with each (key, value) pair being the (lower case,\n",
        "upper case) versions of a letter, respectively."
      ]
    },
    {
      "cell_type": "code",
      "metadata": {
        "colab": {
          "base_uri": "https://localhost:8080/"
        },
        "id": "zP_eWaR0i4WY",
        "outputId": "05ed401c-1ec2-424a-9eb0-97d1f0da1e29"
      },
      "source": [
        "d = {}\n",
        "s = input(\"Enter a  string: \")\n",
        "s = s.lower()\n",
        "for i  in s:\n",
        "  if i not in d:\n",
        "    d[i] = i.upper()\n",
        "print(d)"
      ],
      "execution_count": 4,
      "outputs": [
        {
          "output_type": "stream",
          "text": [
            "Enter a  string: Ankur\n",
            "{'a': 'A', 'n': 'N', 'k': 'K', 'u': 'U', 'r': 'R'}\n"
          ],
          "name": "stdout"
        }
      ]
    },
    {
      "cell_type": "markdown",
      "metadata": {
        "id": "JsVurl9ukn4e"
      },
      "source": [
        "Write a function, that replaces all vowels in a string with a specified vowel."
      ]
    },
    {
      "cell_type": "code",
      "metadata": {
        "colab": {
          "base_uri": "https://localhost:8080/"
        },
        "id": "9ijnQLp1kiWZ",
        "outputId": "3270a6c0-26bc-4c1f-89bc-873f13c5eec0"
      },
      "source": [
        "def replaceVowelsWithK(test_str, K):\n",
        "    vowels = 'AEIOUaeiou'\n",
        "    for ele in vowels:\n",
        "        test_str = test_str.replace(ele, K)\n",
        "    return test_str   \n",
        "# Driver Code\n",
        "input_str = input(\"Enter a string: \")\n",
        "K = input(\"Enter a vowel: \")\n",
        "print(\"Given Sting:\", input_str)\n",
        "print(\"Given Specified Character:\", K)\n",
        "print(\"Afer replacing vowels with the specified character:\", replaceVowelsWithK(input_str, K))"
      ],
      "execution_count": 6,
      "outputs": [
        {
          "output_type": "stream",
          "text": [
            "Enter a string: My name is Ankur Das.\n",
            "Enter a vowel: e\n",
            "Given Sting: My name is Ankur Das.\n",
            "Given Specified Character: e\n",
            "Afer replacing vowels with the specified character: My neme es enker Des.\n"
          ],
          "name": "stdout"
        }
      ]
    },
    {
      "cell_type": "markdown",
      "metadata": {
        "id": "nomgv7zilcwW"
      },
      "source": [
        "Create a function that takes a string as input and capitalizes a letter if its ASCII code is even\n",
        "and returns its lower case version if its ASCII code is odd."
      ]
    },
    {
      "cell_type": "code",
      "metadata": {
        "colab": {
          "base_uri": "https://localhost:8080/"
        },
        "id": "FRcPEzHClVYo",
        "outputId": "2cc22d51-6586-48db-a529-78fcedf14ef7"
      },
      "source": [
        "s = input(\"Enter a string: \")\n",
        "for i in s:\n",
        "  if ord(i) % 2 == 0:\n",
        "    s.replace(i, i.upper())\n",
        "print(s)"
      ],
      "execution_count": 10,
      "outputs": [
        {
          "output_type": "stream",
          "text": [
            "Enter a string: Onkur\n",
            "Onkur\n"
          ],
          "name": "stdout"
        }
      ]
    }
  ]
}