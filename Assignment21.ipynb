{
 "cells": [
  {
   "cell_type": "code",
   "execution_count": 2,
   "metadata": {},
   "outputs": [
    {
     "name": "stdout",
     "output_type": "stream",
     "text": [
      "Enter elements of the list: 5 6 1 2 3 9\n",
      "Enter a number: 0\n",
      "The modified list is:  [6, 1, 2, 3, 9, 0]\n"
     ]
    }
   ],
   "source": [
    "#Write a function that takes a list and a number as arguments. Add the number to the end of\n",
    "#the list, then remove the first element of the list. The function should then return the updated\n",
    "#list.\n",
    "def next_in_line(l, n):\n",
    "    l.append(n)\n",
    "    l.pop(0)\n",
    "    return l\n",
    "#driver program\n",
    "l = [int(i) for i in input(\"Enter elements of the list: \").split()]\n",
    "n = int(input(\"Enter a number: \"))\n",
    "print(\"The modified list is: \",next_in_line(l, n))"
   ]
  },
  {
   "cell_type": "code",
   "execution_count": 3,
   "metadata": {},
   "outputs": [
    {
     "name": "stdout",
     "output_type": "stream",
     "text": [
      "Total  budget:  1080000\n"
     ]
    }
   ],
   "source": [
    "#Create the function that takes a list of dictionaries and returns the sum of people's budgets.\n",
    "def get_budgets(d):\n",
    "    s=0\n",
    "    for i in d:\n",
    "        s+=i['budget']\n",
    "    return s\n",
    "#driver function\n",
    "d = [{'name' : 'Ankur', 'age' : 22, 'budget' : 120000}, {'name' : 'Subhajit Dhali', 'age' : 23, 'budget': 600000}, {'name' : 'Bidyut Das', 'age' : 22, 'budget': 360000}]\n",
    "print(\"Total  budget: \",get_budgets(d))"
   ]
  },
  {
   "cell_type": "code",
   "execution_count": 4,
   "metadata": {},
   "outputs": [
    {
     "name": "stdout",
     "output_type": "stream",
     "text": [
      "Enter a string: Ankur Das\n",
      "The original string : Ankur Das\n",
      "String after sorting :  ADaknrsu\n"
     ]
    }
   ],
   "source": [
    "#Create a function that takes a string and returns a string with its letters in alphabetical order.\n",
    "test_string = input(\"Enter a string: \")\n",
    "print(\"The original string : \" + str(test_string)) \n",
    "res = ''.join(sorted(test_string))\n",
    "print(\"String after sorting : \" + str(res))"
   ]
  },
  {
   "cell_type": "code",
   "execution_count": 7,
   "metadata": {},
   "outputs": [
    {
     "name": "stdout",
     "output_type": "stream",
     "text": [
      "Compound interest is 186791.85894122993\n"
     ]
    }
   ],
   "source": [
    "#Compound Interest\n",
    "def compound_interest(principle, rate, time, period):\n",
    "    Amount = principle * (pow((1 + rate / 100), time * period))\n",
    "    print(\"Compound interest is\", Amount)\n",
    "# Driver Code\n",
    "compound_interest(10000, 5, 5, 12)"
   ]
  },
  {
   "cell_type": "code",
   "execution_count": 9,
   "metadata": {},
   "outputs": [
    {
     "name": "stdout",
     "output_type": "stream",
     "text": [
      "Modified list is:  [1, 2, 5]\n"
     ]
    }
   ],
   "source": [
    "#Write a function that takes a list of elements and returns only the integers.\n",
    "def only_integer(l):\n",
    "    res=[]\n",
    "    for i in range(len(l)):\n",
    "        if type(l[i]) == int:\n",
    "            res.append(l[i])\n",
    "    l = res\n",
    "    del res\n",
    "    return l\n",
    "#driver program\n",
    "l = [1, 2, True, \"Ankur\", [1,2,3], 5]\n",
    "print(\"Modified list is: \",only_integer(l))"
   ]
  }
 ],
 "metadata": {
  "kernelspec": {
   "display_name": "Python 3",
   "language": "python",
   "name": "python3"
  },
  "language_info": {
   "codemirror_mode": {
    "name": "ipython",
    "version": 3
   },
   "file_extension": ".py",
   "mimetype": "text/x-python",
   "name": "python",
   "nbconvert_exporter": "python",
   "pygments_lexer": "ipython3",
   "version": "3.8.5"
  }
 },
 "nbformat": 4,
 "nbformat_minor": 4
}
