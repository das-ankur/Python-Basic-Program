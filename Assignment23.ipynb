{
 "cells": [
  {
   "cell_type": "code",
   "execution_count": 1,
   "metadata": {},
   "outputs": [
    {
     "name": "stdout",
     "output_type": "stream",
     "text": [
      "Enter the value of x: 12\n",
      "Enter the value of y: 25\n",
      "Enter the value of n: 3\n",
      "[12, 15, 18, 21, 24]\n"
     ]
    }
   ],
   "source": [
    "\"\"\"\n",
    "Create a function that takes three parameters where:\n",
    " x is the start of the range (inclusive).\n",
    " y is the end of the range (inclusive).\n",
    " n is the divisor to be checked against.\n",
    "Return an ordered list with numbers in the range that are divisible by the third parameter n.\n",
    "Return an empty list if there are no numbers that are divisible by n.\n",
    "\n",
    "\"\"\"\n",
    "def simon_says(x, y, n):\n",
    "    res = []\n",
    "    for i in range(x, y+1):\n",
    "        if i % n == 0:\n",
    "            res.append(i)\n",
    "    return res\n",
    "#driver function\n",
    "x = int(input(\"Enter the value of x: \"))\n",
    "y = int(input(\"Enter the value of y: \"))\n",
    "n = int(input(\"Enter the value of n: \"))\n",
    "print(simon_says(x, y, n))"
   ]
  },
  {
   "cell_type": "code",
   "execution_count": 2,
   "metadata": {},
   "outputs": [
    {
     "name": "stdout",
     "output_type": "stream",
     "text": [
      "Enter the first list: 5 4 2 9 3\n",
      "Enter the second list: 1 5 4 2 9\n",
      "True\n"
     ]
    }
   ],
   "source": [
    "\"\"\"\n",
    "Create a function that takes in two lists and returns True if the second list follows the first list\n",
    "by one element, and False otherwise. In other words, determine if the second list is the first\n",
    "list shifted to the right by 1.\n",
    "\n",
    "\"\"\"\n",
    "def list_operations(l1, l2):\n",
    "    if len(l1)!=len(l2):\n",
    "        return False\n",
    "    for i in range(len(l1)-1):\n",
    "        if l1[i] == l2[i-1]:\n",
    "            return False\n",
    "    return True\n",
    "#driver function\n",
    "l1 = [int(i) for i in input(\"Enter the first list: \").split()]\n",
    "l2 = [int(i) for i in input(\"Enter the second list: \").split()]\n",
    "print(list_operations(l1, l2))"
   ]
  },
  {
   "cell_type": "code",
   "execution_count": 8,
   "metadata": {},
   "outputs": [
    {
     "name": "stdout",
     "output_type": "stream",
     "text": [
      "Society name:  ADS\n"
     ]
    }
   ],
   "source": [
    "\"\"\"\n",
    "A group of friends have decided to start a secret society. The name will be the first letter of\n",
    "each of their names, sorted in alphabetical order.\n",
    "Create a function that takes in a list of names and returns the name of the secret society.\n",
    "\"\"\"\n",
    "def society_name(l):\n",
    "    s = \"\"\n",
    "    for i in range(len(l)):\n",
    "        temp = l[i][0]\n",
    "        s += temp\n",
    "    s = ''.join(sorted(s))\n",
    "    return s\n",
    "#driver function\n",
    "print(\"Society name: \",society_name([\"Ankur\", \"Sayan\", \"Dhali\"]))\n"
   ]
  },
  {
   "cell_type": "code",
   "execution_count": 7,
   "metadata": {},
   "outputs": [
    {
     "name": "stdout",
     "output_type": "stream",
     "text": [
      "Enter a string: Ankur\n",
      "True\n"
     ]
    }
   ],
   "source": [
    "#An isogram is a word that has no duplicate letters. Create a function that takes a string and\n",
    "#returns either True or False depending on whether or not it&#39;s an &quot;isogram&quot;.\n",
    "def solve(word):\n",
    "   char_list = []\n",
    "   for char in word:\n",
    "      if char.isalpha():\n",
    "         if char in char_list:\n",
    "            return False\n",
    "            char_list.append(char)\n",
    "   return True\n",
    "s = input(\"Enter a string: \")\n",
    "print(solve(s))"
   ]
  },
  {
   "cell_type": "code",
   "execution_count": 4,
   "metadata": {},
   "outputs": [
    {
     "name": "stdout",
     "output_type": "stream",
     "text": [
      "Enter a string: Ankur\n",
      "No\n"
     ]
    }
   ],
   "source": [
    "#Create a function that takes a string and returns True or False, depending on whether the\n",
    "#characters are in order or not.\n",
    "def isAlphabaticOrder(s):\n",
    "    n = len(s)\n",
    "    c = [s[i] for i in range(len(s))]\n",
    " \n",
    "    # sort the character array\n",
    "    c.sort(reverse = False)\n",
    " \n",
    "    # check if the character array\n",
    "    # is equal to the string or not\n",
    "    for i in range(n):\n",
    "        if (c[i] != s[i]):\n",
    "            return False\n",
    "         \n",
    "    return True\n",
    " \n",
    "# Driver code\n",
    "if __name__ == '__main__':\n",
    "    s = input(\"Enter a string: \")\n",
    " \n",
    "    # check whether the string is\n",
    "    # in alphabetical order or not\n",
    "    if (isAlphabaticOrder(s)):\n",
    "        print(\"Yes\")\n",
    "    else:\n",
    "        print(\"No\")"
   ]
  }
 ],
 "metadata": {
  "kernelspec": {
   "display_name": "Python 3",
   "language": "python",
   "name": "python3"
  },
  "language_info": {
   "codemirror_mode": {
    "name": "ipython",
    "version": 3
   },
   "file_extension": ".py",
   "mimetype": "text/x-python",
   "name": "python",
   "nbconvert_exporter": "python",
   "pygments_lexer": "ipython3",
   "version": "3.8.5"
  }
 },
 "nbformat": 4,
 "nbformat_minor": 4
}
