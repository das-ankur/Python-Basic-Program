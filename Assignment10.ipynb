{
  "nbformat": 4,
  "nbformat_minor": 0,
  "metadata": {
    "colab": {
      "name": "Assignment10.ipynb",
      "provenance": [],
      "collapsed_sections": []
    },
    "kernelspec": {
      "name": "python3",
      "display_name": "Python 3"
    },
    "language_info": {
      "name": "python"
    }
  },
  "cells": [
    {
      "cell_type": "code",
      "metadata": {
        "colab": {
          "base_uri": "https://localhost:8080/"
        },
        "id": "7fWIUAFfTByV",
        "outputId": "dff1999b-3058-464b-ff29-fd1d37db7ae4"
      },
      "source": [
        "#Sum of elements of  list\n",
        "arr=[int(x) for x in input(\"Enter numbers of the list: \").split()]\n",
        "print(\"Sum of elements of the list: \",sum(arr))"
      ],
      "execution_count": 2,
      "outputs": [
        {
          "output_type": "stream",
          "text": [
            "Enter numbers of the list: 5 3 6\n",
            "Sum of elements of the list:  14\n"
          ],
          "name": "stdout"
        }
      ]
    },
    {
      "cell_type": "code",
      "metadata": {
        "colab": {
          "base_uri": "https://localhost:8080/"
        },
        "id": "W7S15anYTd6I",
        "outputId": "000a8279-e81b-4a7f-ac94-a6e13e985a27"
      },
      "source": [
        "#Multiply all numbers of list\n",
        "arr=[int(x) for x in input(\"Enter numbers of the list: \").split()]\n",
        "s=1\n",
        "for i in arr:\n",
        "  s*=i\n",
        "print(\"Product of elements of the list: \",s)"
      ],
      "execution_count": 3,
      "outputs": [
        {
          "output_type": "stream",
          "text": [
            "Enter numbers of the list: 5 3 4 2\n",
            "Product of elements of the list:  120\n"
          ],
          "name": "stdout"
        }
      ]
    },
    {
      "cell_type": "code",
      "metadata": {
        "colab": {
          "base_uri": "https://localhost:8080/"
        },
        "id": "D2hPg54lUEpu",
        "outputId": "1f20f189-ef6e-4c12-e15f-be0af2a32984"
      },
      "source": [
        "#Smallest number in the list\n",
        "arr=[int(x) for x in input(\"Enter numbers of the list: \").split()]\n",
        "print(\"Smallest number of the list: \",min(arr))"
      ],
      "execution_count": 4,
      "outputs": [
        {
          "output_type": "stream",
          "text": [
            "Enter numbers of the list: 5 6 3 -1\n",
            "Smallest number of the list:  -1\n"
          ],
          "name": "stdout"
        }
      ]
    },
    {
      "cell_type": "code",
      "metadata": {
        "colab": {
          "base_uri": "https://localhost:8080/"
        },
        "id": "nNql6xkvUQx-",
        "outputId": "684bb2f3-b7c9-4729-de14-9427fd531cc6"
      },
      "source": [
        "#Largest number in the list\n",
        "arr=[int(x) for x in input(\"Enter numbers of the list: \").split()]\n",
        "print(\"Largest number of the list: \",max(arr))"
      ],
      "execution_count": 5,
      "outputs": [
        {
          "output_type": "stream",
          "text": [
            "Enter numbers of the list: 2 0 3 -1 6 1\n",
            "Largest number of the list:  6\n"
          ],
          "name": "stdout"
        }
      ]
    },
    {
      "cell_type": "code",
      "metadata": {
        "colab": {
          "base_uri": "https://localhost:8080/"
        },
        "id": "XmHzENn0UcjV",
        "outputId": "3568bc0d-04e0-42b2-ebfb-b91473ee7467"
      },
      "source": [
        "#Second largest number\n",
        "list1 = [int(x) for x in input(\"Enter numbers of the list: \").split()]\n",
        "mx=max(list1[0],list1[1])\n",
        "secondmax=min(list1[0],list1[1])\n",
        "n =len(list1)\n",
        "for i in range(2,n):\n",
        "    if list1[i]>mx:\n",
        "        secondmax=mx\n",
        "        mx=list1[i]\n",
        "    elif list1[i]>secondmax and mx != list1[i]:\n",
        "        secondmax=list1[i]\n",
        "print(\"Second highest number is : \",str(secondmax))"
      ],
      "execution_count": 6,
      "outputs": [
        {
          "output_type": "stream",
          "text": [
            "Enter numbers of the list: 5 4 3 2 1 6\n",
            "Second highest number is :  5\n"
          ],
          "name": "stdout"
        }
      ]
    },
    {
      "cell_type": "code",
      "metadata": {
        "colab": {
          "base_uri": "https://localhost:8080/"
        },
        "id": "UFdGk6MnU8dE",
        "outputId": "c3f8629a-cd7b-490e-8316-21817f3a0a55"
      },
      "source": [
        "#N largest number in the list\n",
        "def Nmaxelements(list1, N):\n",
        "    final_list = []\n",
        "    for i in range(0, N): \n",
        "        max1 = 0 \n",
        "        for j in range(len(list1)):     \n",
        "            if list1[j] > max1:\n",
        "                max1 = list1[j];     \n",
        "        list1.remove(max1);\n",
        "        final_list.append(max1)\n",
        "    print(final_list[-1])\n",
        "# Driver code\n",
        "list1 = [int(x) for x in input(\"Enter numbers of the list: \").split()]\n",
        "N = int(input(\"Enter the sequence no.: \"))\n",
        "print(\"Nth largest number of the list: \")\n",
        "Nmaxelements(list1, N)"
      ],
      "execution_count": 9,
      "outputs": [
        {
          "output_type": "stream",
          "text": [
            "Enter numbers of the list: 5 2 8 9 3 10\n",
            "Enter the sequence no.: 4\n",
            "Nth largest number of the list: \n",
            "5\n"
          ],
          "name": "stdout"
        }
      ]
    },
    {
      "cell_type": "code",
      "metadata": {
        "colab": {
          "base_uri": "https://localhost:8080/"
        },
        "id": "HlvL4a5yVt78",
        "outputId": "210b0d09-ef98-4856-cb1d-3d14392687e8"
      },
      "source": [
        "#Even numbers in the list\n",
        "arr=[int(x) for x in input(\"Enter numbers of the list: \").split()]\n",
        "print(\"Even numbers of the list:\")\n",
        "for i in arr:\n",
        "  if i%2==0:\n",
        "    print(i, end='\\t')"
      ],
      "execution_count": 10,
      "outputs": [
        {
          "output_type": "stream",
          "text": [
            "Enter numbers of the list: 5 6 2 8 9\n",
            "Even numbers of the list:\n",
            "6\t2\t8\t"
          ],
          "name": "stdout"
        }
      ]
    },
    {
      "cell_type": "code",
      "metadata": {
        "colab": {
          "base_uri": "https://localhost:8080/"
        },
        "id": "UCFFPBuqWfXq",
        "outputId": "2910637a-f699-45ea-a214-17b965e88c84"
      },
      "source": [
        "#Odd numbers in the list\n",
        "arr=[int(x) for x in input(\"Enter numbers of the list: \").split()]\n",
        "print(\"Odd numbers of the list:\")\n",
        "for i in arr:\n",
        "  if i%2==1:\n",
        "    print(i, end='\\t')"
      ],
      "execution_count": 11,
      "outputs": [
        {
          "output_type": "stream",
          "text": [
            "Enter numbers of the list: 8 3 2 1\n",
            "Odd numbers of the list:\n",
            "3\t1\t"
          ],
          "name": "stdout"
        }
      ]
    },
    {
      "cell_type": "code",
      "metadata": {
        "colab": {
          "base_uri": "https://localhost:8080/"
        },
        "id": "rSW3-YxZWmZB",
        "outputId": "b1e56537-3c55-4d1c-a222-203ecfe48346"
      },
      "source": [
        "#Remove empty list from the list\n",
        "test_list = [5, 6, [], 3, [], [], 9]\n",
        "print(\"The original list is : \" + str(test_list))\n",
        "res = [ele for ele in test_list if ele != []]\n",
        "print (\"List after empty list removal : \" + str(res))"
      ],
      "execution_count": 12,
      "outputs": [
        {
          "output_type": "stream",
          "text": [
            "The original list is : [5, 6, [], 3, [], [], 9]\n",
            "List after empty list removal : [5, 6, 3, 9]\n"
          ],
          "name": "stdout"
        }
      ]
    },
    {
      "cell_type": "code",
      "metadata": {
        "colab": {
          "base_uri": "https://localhost:8080/"
        },
        "id": "w9Nwd3apW-hP",
        "outputId": "d83d44c6-bed6-46ff-f13c-99797f762615"
      },
      "source": [
        "#Copy a list\n",
        "arr=[int(x) for x in input(\"Enter numbers of the list: \").split()]\n",
        "copy_arr=arr.copy()\n",
        "print(\"Copy  of the array: \",copy_arr)"
      ],
      "execution_count": 13,
      "outputs": [
        {
          "output_type": "stream",
          "text": [
            "Enter numbers of the list: 5 6 3 1\n",
            "Copy  of the array:  [5, 6, 3, 1]\n"
          ],
          "name": "stdout"
        }
      ]
    },
    {
      "cell_type": "code",
      "metadata": {
        "colab": {
          "base_uri": "https://localhost:8080/"
        },
        "id": "DRI_ycvqXfOW",
        "outputId": "8b690aea-990e-423d-bed8-d7dc45c1d3c8"
      },
      "source": [
        "#Count element of a list\n",
        "arr=[int(x) for x in input(\"Enter numbers of the list: \").split()]\n",
        "ele=int(input(\"Enter the element: \"))\n",
        "print(\"No. of occurence of \",ele,\" in list is: \",arr.count(ele))"
      ],
      "execution_count": 14,
      "outputs": [
        {
          "output_type": "stream",
          "text": [
            "Enter numbers of the list: 5 6 1 5 5 2 3 5\n",
            "Enter the element: 5\n",
            "No. of occurence of  5  in list is:  4\n"
          ],
          "name": "stdout"
        }
      ]
    },
    {
      "cell_type": "code",
      "metadata": {
        "id": "UIocD9bTYTaQ"
      },
      "source": [
        ""
      ],
      "execution_count": null,
      "outputs": []
    }
  ]
}