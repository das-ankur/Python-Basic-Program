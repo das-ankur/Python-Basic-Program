{
  "nbformat": 4,
  "nbformat_minor": 0,
  "metadata": {
    "colab": {
      "name": "Assignment9.ipynb",
      "provenance": [],
      "collapsed_sections": []
    },
    "kernelspec": {
      "name": "python3",
      "display_name": "Python 3"
    },
    "language_info": {
      "name": "python"
    }
  },
  "cells": [
    {
      "cell_type": "code",
      "metadata": {
        "colab": {
          "base_uri": "https://localhost:8080/"
        },
        "id": "4HDF-1fSKYQY",
        "outputId": "89e13e93-5baa-4342-8e29-09c74f7c655a"
      },
      "source": [
        "#Check for Disarium Number\n",
        "def calculateLength(n):    \n",
        "  length = 0;    \n",
        "  while(n != 0):    \n",
        "      length = length + 1   \n",
        "      n = n//10  \n",
        "  return length\n",
        "def checkDisariumNumber(num):       \n",
        "  rem = sum = 0    \n",
        "  len = calculateLength(num)       \n",
        "  n = num       \n",
        "  while(num > 0):    \n",
        "    rem = num%10    \n",
        "    sum = sum + int(rem**len)    \n",
        "    num = num//10    \n",
        "    len = len - 1      \n",
        "  if(sum == n):    \n",
        "    return True\n",
        "  else:    \n",
        "    return False\n",
        "#Main Program\n",
        "if(checkDisariumNumber(int(input(\"Enter a number: \")))):\n",
        "  print(\"It is a Disarium Number.\")\n",
        "else:\n",
        "  print(\"It isn't a Disarium Number.\")"
      ],
      "execution_count": 3,
      "outputs": [
        {
          "output_type": "stream",
          "text": [
            "Enter a number: 175\n",
            "It is a Disarium Number.\n"
          ],
          "name": "stdout"
        }
      ]
    },
    {
      "cell_type": "code",
      "metadata": {
        "colab": {
          "base_uri": "https://localhost:8080/"
        },
        "id": "h3nBvMemLIUD",
        "outputId": "9f30c062-f3e7-4483-db61-39fc772e3356"
      },
      "source": [
        "#Disarium number in an interval\n",
        "beg=int(input(\"Enter the first number of the interval: \"))\n",
        "end=int(input(\"Enter the last number of the interval: \"))\n",
        "print(\"All the Disarium Number in the range: \")\n",
        "for i in range(beg, end+1):\n",
        "  if(checkDisariumNumber(i)):\n",
        "    print(i, end=\"\\t\")"
      ],
      "execution_count": 4,
      "outputs": [
        {
          "output_type": "stream",
          "text": [
            "Enter the first number of the interval: 1\n",
            "Enter the last number of the interval: 100\n",
            "All the Disarium Number in the range: \n",
            "1\t2\t3\t4\t5\t6\t7\t8\t9\t89\t"
          ],
          "name": "stdout"
        }
      ]
    },
    {
      "cell_type": "code",
      "metadata": {
        "colab": {
          "base_uri": "https://localhost:8080/"
        },
        "id": "2O2tDLtGNBuu",
        "outputId": "f1862fbb-824c-40bd-b3c2-bf3aacc4ce5e"
      },
      "source": [
        "#Check for Happy Number\n",
        "def numSquareSum(n):\n",
        "    squareSum = 0\n",
        "    while(n):\n",
        "        squareSum += (n % 10)*(n % 10)\n",
        "        n = int(n / 10)\n",
        "    return squareSum\n",
        "def isHappynumber(n):\n",
        "    slow = n\n",
        "    fast = n\n",
        "    while(True):\n",
        "        slow = numSquareSum(slow)\n",
        "        fast = numSquareSum(numSquareSum(fast))\n",
        "        if(slow != fast):\n",
        "            continue\n",
        "        else:\n",
        "            break\n",
        "    return (slow == 1)\n",
        "# Driver Code\n",
        "n =int(input(\"Enter a  number:\"))\n",
        "if (isHappynumber(n)):\n",
        "    print(n , \"is a Happy number\");\n",
        "else:\n",
        "    print(n , \"is not a Happy number\");"
      ],
      "execution_count": 5,
      "outputs": [
        {
          "output_type": "stream",
          "text": [
            "Enter a  number:13\n",
            "13 is a Happy number\n"
          ],
          "name": "stdout"
        }
      ]
    },
    {
      "cell_type": "code",
      "metadata": {
        "colab": {
          "base_uri": "https://localhost:8080/"
        },
        "id": "IFwVl6i0N3Br",
        "outputId": "26633859-13d9-47f5-dc36-0b3d543f2b83"
      },
      "source": [
        "#Happy number in an interval\n",
        "beg=int(input(\"Enter the first number of the interval: \"))\n",
        "end=int(input(\"Enter the last number of the interval: \"))\n",
        "print(\"All the Happy Number in the range: \")\n",
        "for i in range(beg, end+1):\n",
        "  if(isHappynumber(i)):\n",
        "    print(i, end=\"\\t\")"
      ],
      "execution_count": 7,
      "outputs": [
        {
          "output_type": "stream",
          "text": [
            "Enter the first number of the interval: 1\n",
            "Enter the last number of the interval: 100\n",
            "All the Happy Number in the range: \n",
            "1\t7\t10\t13\t19\t23\t28\t31\t32\t44\t49\t68\t70\t79\t82\t86\t91\t94\t97\t100\t"
          ],
          "name": "stdout"
        }
      ]
    },
    {
      "cell_type": "code",
      "metadata": {
        "colab": {
          "base_uri": "https://localhost:8080/"
        },
        "id": "JbxZZUWqOEwr",
        "outputId": "b377a722-1cdc-4829-f353-25787730b4d4"
      },
      "source": [
        "#Check for harshad number\n",
        "def checkHarshad( n ) :\n",
        "    sum = 0\n",
        "    temp = n\n",
        "    while temp > 0 :\n",
        "        sum = sum + temp % 10\n",
        "        temp = temp // 10\n",
        "    return n % sum == 0\n",
        "# Driver Code\n",
        "n=int(input(\"Enter a number: \"))\n",
        "if(checkHarshad(n)):\n",
        "  print(n,\" is a Harshad Number.\")\n",
        "else: \n",
        "  print (n,\" isn't a Harshad Number.\")"
      ],
      "execution_count": 8,
      "outputs": [
        {
          "output_type": "stream",
          "text": [
            "Enter a number: 18\n",
            "18  is a Harshad Number.\n"
          ],
          "name": "stdout"
        }
      ]
    },
    {
      "cell_type": "code",
      "metadata": {
        "colab": {
          "base_uri": "https://localhost:8080/"
        },
        "id": "4K9MKa-ZQrSZ",
        "outputId": "ef1141a9-cc62-41f2-f5be-9e15cf63de41"
      },
      "source": [
        "#Harshad number in an interval\n",
        "beg=int(input(\"Enter the first number of the interval: \"))\n",
        "end=int(input(\"Enter the last number of the interval: \"))\n",
        "print(\"All the Harshad Number in the range: \")\n",
        "for i in range(beg, end+1):\n",
        "  if(checkHarshad(i)):\n",
        "    print(i, end=\"\\t\")"
      ],
      "execution_count": 9,
      "outputs": [
        {
          "output_type": "stream",
          "text": [
            "Enter the first number of the interval: 1\n",
            "Enter the last number of the interval: 100\n",
            "All the Harshad Number in the range: \n",
            "1\t2\t3\t4\t5\t6\t7\t8\t9\t10\t12\t18\t20\t21\t24\t27\t30\t36\t40\t42\t45\t48\t50\t54\t60\t63\t70\t72\t80\t81\t84\t90\t100\t"
          ],
          "name": "stdout"
        }
      ]
    }
  ]
}