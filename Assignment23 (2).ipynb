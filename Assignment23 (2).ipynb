{
  "nbformat": 4,
  "nbformat_minor": 0,
  "metadata": {
    "colab": {
      "name": "Assignment23.ipynb",
      "provenance": []
    },
    "kernelspec": {
      "name": "python3",
      "display_name": "Python 3"
    },
    "language_info": {
      "name": "python"
    }
  },
  "cells": [
    {
      "cell_type": "markdown",
      "metadata": {
        "id": "-HxA5tBO_dcw"
      },
      "source": [
        "Create a function that takes a number as an argument and returns True or False depending\n",
        "on whether the number is symmetrical or not. A number is symmetrical when it is the same as\n",
        "its reverse."
      ]
    },
    {
      "cell_type": "code",
      "metadata": {
        "colab": {
          "base_uri": "https://localhost:8080/"
        },
        "id": "-TG0fKW8_cmQ",
        "outputId": "9cc378fe-758d-4b1e-aa50-8fd3d1b5c3fb"
      },
      "source": [
        "def symmetry(a): \n",
        "    n = len(a)\n",
        "    flag = 0\n",
        "    if n%2:\n",
        "        mid = n//2 +1\n",
        "    else:\n",
        "        mid = n//2  \n",
        "    start1 = 0\n",
        "    start2 = mid\n",
        "    while(start1 < mid and start2 < n):\n",
        "          \n",
        "        if (a[start1]== a[start2]):\n",
        "            start1 = start1 + 1\n",
        "            start2 = start2 + 1\n",
        "        else:\n",
        "            flag = 1\n",
        "            break\n",
        "    if flag == 0:\n",
        "        print(\"The number is symmetrical\")\n",
        "    else:\n",
        "        print(\"The number is not symmetrical\")\n",
        "# Driver code\n",
        "string = input(\"Enter a number: \")\n",
        "symmetry(string)"
      ],
      "execution_count": 3,
      "outputs": [
        {
          "output_type": "stream",
          "text": [
            "Enter a number: 4444\n",
            "The number is symmetrical\n"
          ],
          "name": "stdout"
        }
      ]
    },
    {
      "cell_type": "markdown",
      "metadata": {
        "id": "Dsg4TNyBAV_Z"
      },
      "source": [
        "Given a string of numbers separated by a comma and space, return the product of the\n",
        "numbers."
      ]
    },
    {
      "cell_type": "code",
      "metadata": {
        "colab": {
          "base_uri": "https://localhost:8080/"
        },
        "id": "MftzcsfS__4d",
        "outputId": "edb80e1e-b731-4c76-9384-d33595f297cc"
      },
      "source": [
        "import numpy as np\n",
        "print(\"Product of the numbers: \",np.prod(np.array([int(i) for i in input(\"Enter list of numbers: \").split()])))"
      ],
      "execution_count": 5,
      "outputs": [
        {
          "output_type": "stream",
          "text": [
            "Enter list of numbers: 2 5 6 7\n",
            "Product of the numbers:  420\n"
          ],
          "name": "stdout"
        }
      ]
    },
    {
      "cell_type": "markdown",
      "metadata": {
        "id": "TjzwVqywBLXX"
      },
      "source": [
        "Create a function that squares every digit of a number."
      ]
    },
    {
      "cell_type": "code",
      "metadata": {
        "colab": {
          "base_uri": "https://localhost:8080/"
        },
        "id": "JNTqZnn9BDZK",
        "outputId": "2982289a-b428-4be7-94b2-1bc6bd52bc3b"
      },
      "source": [
        "def squareDigitSum(num):\n",
        "    summ = 0\n",
        "    while num > 0:\n",
        "        summ += (num % 10) ** 2\n",
        "        num //= 10\n",
        "    return summ\n",
        "# Driver code\n",
        "if __name__ == \"__main__\":\n",
        "    N = int(input(\"Enter a number: \"))\n",
        "    print(squareDigitSum(N))"
      ],
      "execution_count": 8,
      "outputs": [
        {
          "output_type": "stream",
          "text": [
            "Enter a number: 157\n",
            "75\n"
          ],
          "name": "stdout"
        }
      ]
    },
    {
      "cell_type": "markdown",
      "metadata": {
        "id": "Gdkhpf-7C3l3"
      },
      "source": [
        "Create a function that sorts a list and removes all duplicate items from it.\n"
      ]
    },
    {
      "cell_type": "code",
      "metadata": {
        "colab": {
          "base_uri": "https://localhost:8080/"
        },
        "id": "gBzqDRwABoI5",
        "outputId": "8d052d3e-0e20-44a1-e79d-9a7a40a60408"
      },
      "source": [
        "l = [int(i) for i in input(\"Enter a list of number: \").split()]\n",
        "l.sort()\n",
        "print(list(set(l)))"
      ],
      "execution_count": 10,
      "outputs": [
        {
          "output_type": "stream",
          "text": [
            "Enter a list of number:  2 2 3 5 7 7 5 8 2\n",
            "[2, 3, 5, 7, 8]\n"
          ],
          "name": "stdout"
        }
      ]
    },
    {
      "cell_type": "markdown",
      "metadata": {
        "id": "g6WtlvDmDr2-"
      },
      "source": [
        "Create a function that returns the mean of all digits."
      ]
    },
    {
      "cell_type": "code",
      "metadata": {
        "colab": {
          "base_uri": "https://localhost:8080/"
        },
        "id": "MzJglQrmDNKk",
        "outputId": "5d704fc1-5b9f-403b-f407-a80a6f000243"
      },
      "source": [
        "num = int(input(\"Enter a number: \"))\n",
        "count = 0\n",
        "s = 0\n",
        "while num > 0:\n",
        "  s += num%10\n",
        "  num //= 10\n",
        "  count += 1\n",
        "print(\"Mean: \", s/count)"
      ],
      "execution_count": 11,
      "outputs": [
        {
          "output_type": "stream",
          "text": [
            "Enter a number: 5217\n",
            "Mean:  3.75\n"
          ],
          "name": "stdout"
        }
      ]
    }
  ]
}