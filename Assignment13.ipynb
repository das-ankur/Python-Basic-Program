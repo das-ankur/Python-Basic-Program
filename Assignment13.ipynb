{
 "cells": [
  {
   "cell_type": "code",
   "execution_count": 4,
   "metadata": {},
   "outputs": [
    {
     "name": "stdout",
     "output_type": "stream",
     "text": [
      "[18, 22, 24]\n"
     ]
    }
   ],
   "source": [
    "\"\"\"\n",
    "Write a program that calculates and prints the value according to the given formula:\n",
    "Q = Square root of [(2 * C * D)/H]\n",
    "Following are the fixed values of C and H:\n",
    "C is 50. H is 30.\n",
    "D is the variable whose values should be input to your program in a comma-separated\n",
    "sequence.\n",
    "\"\"\"\n",
    "import math\n",
    "def calQ(l):\n",
    "    res = []\n",
    "    c = 50\n",
    "    h = 30\n",
    "    for d in l:\n",
    "        res.append(int(math.sqrt(2*c*d/h)))\n",
    "    return res\n",
    "#driver function\n",
    "print(calQ([100, 150, 180]))"
   ]
  },
  {
   "cell_type": "code",
   "execution_count": 7,
   "metadata": {},
   "outputs": [
    {
     "name": "stdout",
     "output_type": "stream",
     "text": [
      "[[0, 0, 0, 0, 0], [0, 1, 2, 3, 4], [0, 2, 4, 6, 8]]\n"
     ]
    }
   ],
   "source": [
    "\"\"\"\n",
    "Write a program which takes 2 digits, X,Y as input and generates a 2-dimensional array. The\n",
    "element value in the i-th row and j-th column of the array should be i*j.\n",
    "\"\"\"\n",
    "def array2D(x, y):\n",
    "    res = []\n",
    "    for i in range(x):\n",
    "        temp = []\n",
    "        for j in range(y):\n",
    "            temp.append(i*j)\n",
    "        res.append(temp.copy())\n",
    "        temp.clear()\n",
    "    return res\n",
    "#driver function\n",
    "print(array2D(3, 5))"
   ]
  },
  {
   "cell_type": "code",
   "execution_count": 8,
   "metadata": {},
   "outputs": [
    {
     "name": "stdout",
     "output_type": "stream",
     "text": [
      "Enter a string: ABC,XYZ,DEF,BAG\n",
      "['ABC', 'BAG', 'DEF', 'XYZ']\n"
     ]
    }
   ],
   "source": [
    "\"\"\"\n",
    "Write a program that accepts a comma separated sequence of words as input and prints the\n",
    "words in a comma-separated sequence after sorting them alphabetically.\n",
    "\"\"\"\n",
    "def commaWords(s):\n",
    "    s = s.split(\",\")\n",
    "    s.sort()\n",
    "    return s\n",
    "#driver program\n",
    "print(commaWords(input(\"Enter a string: \")))"
   ]
  },
  {
   "cell_type": "code",
   "execution_count": 10,
   "metadata": {},
   "outputs": [
    {
     "name": "stdout",
     "output_type": "stream",
     "text": [
      "Enter a string: hello world program is hello to program\n",
      "is hello world to program \n"
     ]
    }
   ],
   "source": [
    "\"\"\"\n",
    "Write a program that accepts a sequence of whitespace separated words as input and prints\n",
    "the words after removing all duplicate words and sorting them alphanumerically.\n",
    "\"\"\"\n",
    "def removeSpace(s):\n",
    "    temp=\"\"\n",
    "    s =list(set(s.split(\" \")))\n",
    "    for i in s:\n",
    "        temp += i +\" \"\n",
    "    return temp\n",
    "#driver program\n",
    "print(removeSpace(input(\"Enter a string: \")))"
   ]
  },
  {
   "cell_type": "code",
   "execution_count": 11,
   "metadata": {},
   "outputs": [
    {
     "name": "stdout",
     "output_type": "stream",
     "text": [
      "Enter a string: Hello World python 3\n",
      "Letters: 16\n",
      "Digits: 1\n"
     ]
    }
   ],
   "source": [
    "#Write a program that accepts a sentence and calculate the number of letters and digits.\n",
    "str = input(\"Enter a string: \")\n",
    "digit=letter=0\n",
    "for ch in str:\n",
    "   if ch.isdigit():\n",
    "      digit=digit+1\n",
    "   elif ch.isalpha():\n",
    "      letter=letter+1\n",
    "   else:\n",
    "      pass\n",
    "print(\"Letters:\", letter)\n",
    "print(\"Digits:\", digit)"
   ]
  },
  {
   "cell_type": "code",
   "execution_count": 14,
   "metadata": {},
   "outputs": [
    {
     "name": "stdout",
     "output_type": "stream",
     "text": [
      "Enter email: abc@gmail.com\n",
      "Enter password: Abc12#@D\n",
      "abc@gmail.com\n"
     ]
    }
   ],
   "source": [
    "\"\"\"\n",
    "A website requires the users to input username and password to register. Write a program to\n",
    "check the validity of password input by users.\n",
    "Following are the criteria for checking the password:\n",
    "1. At least 1 letter between [a-z]\n",
    "2. At least 1 number between [0-9]\n",
    "1. At least 1 letter between [A-Z]\n",
    "3. At least 1 character from [$#@]\n",
    "4. Minimum length of transaction password: 6\n",
    "5. Maximum length of transaction password: 12\n",
    "Your program should accept a sequence of comma separated passwords and will check them\n",
    "according to the above criteria. Passwords that match the criteria are to be printed, each\n",
    "separated by a comma.\n",
    "\"\"\"\n",
    "import re\n",
    "mail = input(\"Enter email: \")\n",
    "password = input(\"Enter password: \")\n",
    "flag = 0\n",
    "while True:  \n",
    "    if (len(password)<8):\n",
    "        flag = -1\n",
    "        break\n",
    "    elif not re.search(\"[a-z]\", password):\n",
    "        flag = -1\n",
    "        break\n",
    "    elif not re.search(\"[A-Z]\", password):\n",
    "        flag = -1\n",
    "        break\n",
    "    elif not re.search(\"[0-9]\", password):\n",
    "        flag = -1\n",
    "        break\n",
    "    elif not re.search(\"[_@$]\", password):\n",
    "        flag = -1\n",
    "        break\n",
    "    elif re.search(\"\\s\", password):\n",
    "        flag = -1\n",
    "        break\n",
    "    else:\n",
    "        flag = 0\n",
    "        print(mail)\n",
    "        break\n",
    "if flag ==-1:\n",
    "    print(\"Invalid password!\")"
   ]
  }
 ],
 "metadata": {
  "kernelspec": {
   "display_name": "Python 3",
   "language": "python",
   "name": "python3"
  },
  "language_info": {
   "codemirror_mode": {
    "name": "ipython",
    "version": 3
   },
   "file_extension": ".py",
   "mimetype": "text/x-python",
   "name": "python",
   "nbconvert_exporter": "python",
   "pygments_lexer": "ipython3",
   "version": "3.8.5"
  }
 },
 "nbformat": 4,
 "nbformat_minor": 4
}
