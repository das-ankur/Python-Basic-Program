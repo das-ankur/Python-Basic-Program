{
 "cells": [
  {
   "cell_type": "code",
   "execution_count": 1,
   "metadata": {},
   "outputs": [
    {
     "name": "stdout",
     "output_type": "stream",
     "text": [
      "Enter a number: 5\n",
      "5  is a positive number.\n"
     ]
    }
   ],
   "source": [
    "n=int(input(\"Enter a number: \"))\n",
    "if n>0:\n",
    "    print(n,\" is a positive number.\")\n",
    "elif n<0:\n",
    "    print(n,\" is a negative number.\")\n",
    "else:\n",
    "    print(\"The number is zero.\")"
   ]
  },
  {
   "cell_type": "code",
   "execution_count": 2,
   "metadata": {},
   "outputs": [
    {
     "name": "stdout",
     "output_type": "stream",
     "text": [
      "Enter a number: 7\n",
      "7  is odd.\n"
     ]
    }
   ],
   "source": [
    "n=int(input(\"Enter a number: \"))\n",
    "if n%2==0:\n",
    "    print(n,\" is even.\")\n",
    "else:\n",
    "    print(n,\" is odd.\")"
   ]
  },
  {
   "cell_type": "code",
   "execution_count": 6,
   "metadata": {},
   "outputs": [
    {
     "name": "stdout",
     "output_type": "stream",
     "text": [
      "Enter a year: 3000\n",
      "3000  is not a leap year.\n"
     ]
    }
   ],
   "source": [
    "y=int(input(\"Enter a year: \"))\n",
    "if y%100==0:\n",
    "    if y%400==0:\n",
    "        print(y,\" is a leap year.\")\n",
    "    else:\n",
    "        print(y,\" is not a leap year.\")\n",
    "else:\n",
    "    if y%4==0:\n",
    "        print(y,\" is a leap year.\")\n",
    "    else:\n",
    "        print(y,\" is not a leap year.\")"
   ]
  },
  {
   "cell_type": "code",
   "execution_count": 16,
   "metadata": {},
   "outputs": [
    {
     "name": "stdout",
     "output_type": "stream",
     "text": [
      "Enter a number: 18\n",
      "18  is not a prime number.\n"
     ]
    }
   ],
   "source": [
    "import math\n",
    "n=int(input(\"Enter a number: \"))\n",
    "flag=False\n",
    "for i in range(2, int(math.sqrt(n))):\n",
    "    if n%i==0:\n",
    "        flag=True\n",
    "        break\n",
    "if flag:\n",
    "    print(n,\" is not a prime number.\")\n",
    "else:\n",
    "    print(n,\" is a prime number.\")"
   ]
  },
  {
   "cell_type": "code",
   "execution_count": 19,
   "metadata": {},
   "outputs": [
    {
     "name": "stdout",
     "output_type": "stream",
     "text": [
      "Enter lower range: 2\n",
      "Enter upper range: 10\n",
      "All the prime numbers between  2  and  10 : \n",
      "2\n",
      "3\n",
      "5\n",
      "7\n"
     ]
    }
   ],
   "source": [
    "lower = int(input(\"Enter lower range: \"))  \n",
    "upper = int(input(\"Enter upper range: \"))\n",
    "print(\"All the prime numbers between \",lower,\" and \",upper,\": \")\n",
    "for num in range(lower,upper + 1):  \n",
    "   if num > 1:  \n",
    "       for i in range(2,num):  \n",
    "           if (num % i) == 0:  \n",
    "               break  \n",
    "       else:  \n",
    "           print(num)  "
   ]
  }
 ],
 "metadata": {
  "kernelspec": {
   "display_name": "Python 3",
   "language": "python",
   "name": "python3"
  },
  "language_info": {
   "codemirror_mode": {
    "name": "ipython",
    "version": 3
   },
   "file_extension": ".py",
   "mimetype": "text/x-python",
   "name": "python",
   "nbconvert_exporter": "python",
   "pygments_lexer": "ipython3",
   "version": "3.8.5"
  }
 },
 "nbformat": 4,
 "nbformat_minor": 4
}
