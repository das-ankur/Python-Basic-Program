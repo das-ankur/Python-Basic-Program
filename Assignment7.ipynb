{
 "cells": [
  {
   "cell_type": "code",
   "execution_count": 2,
   "metadata": {},
   "outputs": [
    {
     "name": "stdout",
     "output_type": "stream",
     "text": [
      "Enter the numbers: 5 3 6 2\n",
      "Sum of array elements:  16\n"
     ]
    }
   ],
   "source": [
    "#Sum of array\n",
    "print(\"Sum of array elements: \",sum([int(x) for x in input(\"Enter the numbers: \").split()]))"
   ]
  },
  {
   "cell_type": "code",
   "execution_count": 4,
   "metadata": {},
   "outputs": [
    {
     "name": "stdout",
     "output_type": "stream",
     "text": [
      "Enter elements of the array: 5 -2 3 -1 0 7 9 12 1\n",
      "Maximum element of the array:  12\n"
     ]
    }
   ],
   "source": [
    "#Largest element of an array\n",
    "print(\"Maximum element of the array: \",max([int(x) for x in input(\"Enter elements of the array: \").split()]))"
   ]
  },
  {
   "cell_type": "code",
   "execution_count": 6,
   "metadata": {},
   "outputs": [
    {
     "name": "stdout",
     "output_type": "stream",
     "text": [
      "Enter elements of the array: 1 2 3 4 5 6 7 8 9\n",
      "Enter no. of rotations: 4\n",
      "Right rotation by  4  elements:  [6, 7, 8, 9, 1, 2, 3, 4, 5]\n",
      "Left rotation by  4  elements:  [5, 6, 7, 8, 9, 1, 2, 3, 4]\n"
     ]
    }
   ],
   "source": [
    "#Rotation of an array\n",
    "arr=[int(x) for x in input(\"Enter elements of the array: \").split()]\n",
    "k=int(input(\"Enter no. of rotations: \"))\n",
    "print(\"Right rotation by \",k,\" elements: \",arr[-k:]+arr[:-k])\n",
    "print(\"Left rotation by \",k,\" elements: \",arr[k:]+arr[:k])"
   ]
  },
  {
   "cell_type": "code",
   "execution_count": 7,
   "metadata": {},
   "outputs": [
    {
     "name": "stdout",
     "output_type": "stream",
     "text": [
      "Enter elements of the array: 123456789\n",
      "Enter no. of terms: 4\n",
      "The resultant array is:  [123456789]\n"
     ]
    }
   ],
   "source": [
    "#Split the array and add the first part to the end\n",
    "arr=[int(x) for x in input(\"Enter elements of the array: \").split()]\n",
    "k=int(input(\"Enter no. of terms: \"))\n",
    "print(\"The resultant array is: \",arr[-k:]+arr[:-k])"
   ]
  },
  {
   "cell_type": "code",
   "execution_count": 8,
   "metadata": {},
   "outputs": [
    {
     "name": "stdout",
     "output_type": "stream",
     "text": [
      "Enter elements of the array: 1 2 3 4 5 9\n",
      "[1, 2, 3, 4, 5, 9]  is monotonic.\n"
     ]
    }
   ],
   "source": [
    "#Monotonic Array\n",
    "A=[int(x) for x in input(\"Enter elements of the array: \").split()]\n",
    "if all(A[i] <= A[i + 1] for i in range(len(A) - 1)) or all(A[i] >= A[i + 1] for i in range(len(A) - 1)):\n",
    "    print(A, \" is monotonic.\")\n",
    "else:\n",
    "    print(A, \" isn't monotonic.\")"
   ]
  }
 ],
 "metadata": {
  "kernelspec": {
   "display_name": "Python 3",
   "language": "python",
   "name": "python3"
  },
  "language_info": {
   "codemirror_mode": {
    "name": "ipython",
    "version": 3
   },
   "file_extension": ".py",
   "mimetype": "text/x-python",
   "name": "python",
   "nbconvert_exporter": "python",
   "pygments_lexer": "ipython3",
   "version": "3.8.5"
  }
 },
 "nbformat": 4,
 "nbformat_minor": 4
}
