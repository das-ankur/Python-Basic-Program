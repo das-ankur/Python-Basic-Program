{
  "nbformat": 4,
  "nbformat_minor": 0,
  "metadata": {
    "colab": {
      "name": "Assignment22.ipynb",
      "provenance": []
    },
    "kernelspec": {
      "name": "python3",
      "display_name": "Python 3"
    },
    "language_info": {
      "name": "python"
    }
  },
  "cells": [
    {
      "cell_type": "markdown",
      "metadata": {
        "id": "n7xPn7ebpQgQ"
      },
      "source": [
        "Create a function that takes three parameters where:\n",
        " x is the start of the range (inclusive).\n",
        " y is the end of the range (inclusive).\n",
        " n is the divisor to be checked against.\n",
        "Return an ordered list with numbers in the range that are divisible by the third parameter n.\n",
        "Return an empty list if there are no numbers that are divisible by n."
      ]
    },
    {
      "cell_type": "code",
      "metadata": {
        "colab": {
          "base_uri": "https://localhost:8080/"
        },
        "id": "UhLdW4CMpH8_",
        "outputId": "0e80149e-c4e5-4208-b233-eb221cc46975"
      },
      "source": [
        "def list_operations(x, y, n):\n",
        "  return [int(i) for i in range(x, y+1) if i%n==0]\n",
        "#driver function\n",
        "x = int(input(\"Enter value of x: \"))\n",
        "y = int(input(\"Enter value of y: \"))\n",
        "n = int(input(\"Enter value of n: \"))\n",
        "print(\"All the number divisble by \",n,\" is: \",list_operations(x, y, n))"
      ],
      "execution_count": 3,
      "outputs": [
        {
          "output_type": "stream",
          "text": [
            "Enter value of x: 5\n",
            "Enter value of y: 20\n",
            "Enter value of n: 3\n",
            "All the number divisble by  3  is:  [6, 9, 12, 15, 18]\n"
          ],
          "name": "stdout"
        }
      ]
    },
    {
      "cell_type": "markdown",
      "metadata": {
        "id": "XAKGoIG51ygs"
      },
      "source": [
        "Create a function that takes in two lists and returns True if the second list follows the first list\n",
        "by one element, and False otherwise. In other words, determine if the second list is the first\n",
        "list shifted to the right by 1."
      ]
    },
    {
      "cell_type": "code",
      "metadata": {
        "colab": {
          "base_uri": "https://localhost:8080/"
        },
        "id": "8klLk8YH1WYG",
        "outputId": "ce20ba9c-26ca-469a-f96c-58efde8e3007"
      },
      "source": [
        "def simon_says(x, y):\n",
        "  if len(x) == len(y):\n",
        "    for i in range(1, len(y)):\n",
        "      if y[i] == x[i-1]:\n",
        "        continue\n",
        "      else:\n",
        "        return False\n",
        "    return True\n",
        "  else:\n",
        "    return False\n",
        "#driver function\n",
        "x = [int(i) for i in input(\"Enter first list: \").split()]\n",
        "y = [int(i) for i  in input(\"Enter second list: \").split()]\n",
        "print(simon_says(x, y))"
      ],
      "execution_count": 6,
      "outputs": [
        {
          "output_type": "stream",
          "text": [
            "Enter first list: 1 3 7 9\n",
            "Enter second list: 0 1 3 7\n",
            "True\n"
          ],
          "name": "stdout"
        }
      ]
    },
    {
      "cell_type": "markdown",
      "metadata": {
        "id": "-izNUpBT2_XT"
      },
      "source": [
        "A group of friends have decided to start a secret society. The name will be the first letter of\n",
        "each of their names, sorted in alphabetical order.\n",
        "Create a function that takes in a list of names and returns the name of the secret society."
      ]
    },
    {
      "cell_type": "code",
      "metadata": {
        "colab": {
          "base_uri": "https://localhost:8080/"
        },
        "id": "X0P4LQ1c2vtt",
        "outputId": "2ef63e9e-12aa-4902-ee4a-983c5b7904ec"
      },
      "source": [
        "def society_name(l):\n",
        "  s = \"\"\n",
        "  for i in l:\n",
        "    s += i[0]\n",
        "  return ''.join(sorted(s)) \n",
        "#driver function\n",
        "print(\"Society name is: \",society_name([i for i in input(\"Enter name of the friends: \").split()]))"
      ],
      "execution_count": 14,
      "outputs": [
        {
          "output_type": "stream",
          "text": [
            "Enter name of the friends: Ankur Dhali Babi\n",
            "Society name is:  ABD\n"
          ],
          "name": "stdout"
        }
      ]
    },
    {
      "cell_type": "markdown",
      "metadata": {
        "id": "KzSD7tdj513Q"
      },
      "source": [
        "An isogram is a word that has no duplicate letters. Create a function that takes a string and\n",
        "returns either True or False depending on whether or not it&#39;s an &quot;isogram&quot;."
      ]
    },
    {
      "cell_type": "code",
      "metadata": {
        "colab": {
          "base_uri": "https://localhost:8080/"
        },
        "id": "6xYmy_jo4JgG",
        "outputId": "cf1dd752-53f2-4a60-bc82-210a9e07a47b"
      },
      "source": [
        "def is_isogram(word):\n",
        "    clean_word = word.lower()\n",
        "    letter_list = []\n",
        "    for letter in clean_word:\n",
        "        if letter.isalpha():\n",
        "            if letter in letter_list:\n",
        "                return False\n",
        "            letter_list.append(letter)\n",
        "    return True\n",
        "if __name__ == '__main__':\n",
        "    print(is_isogram(input(\"Enter a  word: \")))                             "
      ],
      "execution_count": 15,
      "outputs": [
        {
          "output_type": "stream",
          "text": [
            "Enter a  word: isogram\n",
            "True\n"
          ],
          "name": "stdout"
        }
      ]
    },
    {
      "cell_type": "markdown",
      "metadata": {
        "id": "aj3IiTda62uR"
      },
      "source": [
        "Create a function that takes a string and returns True or False, depending on whether the\n",
        "characters are in order or not."
      ]
    },
    {
      "cell_type": "code",
      "metadata": {
        "colab": {
          "base_uri": "https://localhost:8080/"
        },
        "id": "_X80NF_P6wa9",
        "outputId": "895378b2-8710-4ef1-f175-dfc3e062c973"
      },
      "source": [
        "def isAlphabaticOrder(s):\n",
        "    n = len(s)\n",
        "    c = [s[i] for i in range(len(s))]\n",
        "    c.sort(reverse = False)\n",
        "    for i in range(n):\n",
        "        if (c[i] != s[i]):\n",
        "            return False\n",
        "    return True\n",
        "# Driver code\n",
        "if __name__ == '__main__':\n",
        "  print(isAlphabaticOrder(input(\"Enter a word: \")))"
      ],
      "execution_count": 17,
      "outputs": [
        {
          "output_type": "stream",
          "text": [
            "Enter a word: ABC\n",
            "True\n"
          ],
          "name": "stdout"
        }
      ]
    }
  ]
}