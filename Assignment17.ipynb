{
 "cells": [
  {
   "cell_type": "code",
   "execution_count": 8,
   "metadata": {},
   "outputs": [
    {
     "name": "stdout",
     "output_type": "stream",
     "text": [
      "Enter the first number: 10\n",
      "Enter the second number: 20\n",
      "Enter the third number: 3\n",
      "Sum of elements which is divisible by  3 :  30\n"
     ]
    }
   ],
   "source": [
    "#Create a function that takes three arguments a, b, c and returns the sum of the\n",
    "#numbers that are evenly divided by c from the range a, b inclusive.\n",
    "def evenly_divisible(a, b, c):\n",
    "    s=0\n",
    "    for i in range(a, b+1):\n",
    "        if (i/c)%2 == 0:\n",
    "            s+=i\n",
    "    return s\n",
    "#driver code\n",
    "a = int(input(\"Enter the first number: \"))\n",
    "b = int(input(\"Enter the second number: \"))\n",
    "c = int(input(\"Enter the third number: \"))\n",
    "print(\"Sum of elements which is divisible by \",c,\": \",evenly_divisible(a, b, c))"
   ]
  },
  {
   "cell_type": "code",
   "execution_count": 9,
   "metadata": {},
   "outputs": [
    {
     "name": "stdout",
     "output_type": "stream",
     "text": [
      "Enter the inequality expression: 5 > 2 <6\n",
      "True\n"
     ]
    }
   ],
   "source": [
    "#Inequality is true or not\n",
    "print(eval(input(\"Enter the inequality expression: \")))"
   ]
  },
  {
   "cell_type": "code",
   "execution_count": 10,
   "metadata": {},
   "outputs": [
    {
     "name": "stdout",
     "output_type": "stream",
     "text": [
      "Enter a string: I am a boy.\n",
      "Enter a character: #\n",
      "Given Sting: I am a boy.\n",
      "Given Specified Character: #\n",
      "Afer replacing vowels with the specified character: # #m # b#y.\n"
     ]
    }
   ],
   "source": [
    "#Replace vowels of string by specific charcater\n",
    "def replaceVowelsWithK(test_str, K):\n",
    "    vowels = 'AEIOUaeiou'\n",
    "    for ele in vowels:\n",
    "        test_str = test_str.replace(ele, K)\n",
    "    return test_str  \n",
    "# Driver Code\n",
    "input_str = input(\"Enter a string: \")\n",
    "  \n",
    "# specified character\n",
    "K = input(\"Enter a character: \")\n",
    "print(\"Given Sting:\", input_str)\n",
    "print(\"Given Specified Character:\", K)\n",
    "print(\"Afer replacing vowels with the specified character:\", replaceVowelsWithK(input_str, K))"
   ]
  },
  {
   "cell_type": "code",
   "execution_count": 11,
   "metadata": {},
   "outputs": [
    {
     "name": "stdout",
     "output_type": "stream",
     "text": [
      "Enter a number: 6\n",
      "number :  6\n",
      "Factorial :  720\n"
     ]
    }
   ],
   "source": [
    "# factorial of given number \n",
    "def factorial(n): \n",
    "    if (n==1 or n==0):\n",
    "        return 1\n",
    "    else:  \n",
    "        return (n * factorial(n - 1)) \n",
    "# Driver Code \n",
    "num = int(input(\"Enter a number: \")) \n",
    "print(\"number : \",num)\n",
    "print(\"Factorial : \",factorial(num))"
   ]
  },
  {
   "cell_type": "code",
   "execution_count": 13,
   "metadata": {},
   "outputs": [
    {
     "name": "stdout",
     "output_type": "stream",
     "text": [
      "Enter the first string: Ankur\n",
      "Enter the second string: Onkur\n",
      "1\n"
     ]
    }
   ],
   "source": [
    "#Hamming distance between two strings\n",
    "def hammingDist(str1, str2):\n",
    "    i = 0\n",
    "    count = 0\n",
    "    while(i < len(str1)):\n",
    "        if(str1[i] != str2[i]):\n",
    "            count += 1\n",
    "        i += 1\n",
    "    return count\n",
    "# Driver code \n",
    "str1 = input(\"Enter the first string: \")\n",
    "str2 = input(\"Enter the second string: \")\n",
    "print(hammingDist(str1, str2))"
   ]
  }
 ],
 "metadata": {
  "kernelspec": {
   "display_name": "Python 3",
   "language": "python",
   "name": "python3"
  },
  "language_info": {
   "codemirror_mode": {
    "name": "ipython",
    "version": 3
   },
   "file_extension": ".py",
   "mimetype": "text/x-python",
   "name": "python",
   "nbconvert_exporter": "python",
   "pygments_lexer": "ipython3",
   "version": "3.8.5"
  }
 },
 "nbformat": 4,
 "nbformat_minor": 4
}
