{
 "cells": [
  {
   "cell_type": "code",
   "execution_count": 2,
   "metadata": {},
   "outputs": [
    {
     "name": "stdout",
     "output_type": "stream",
     "text": [
      "[1, 2]\n"
     ]
    }
   ],
   "source": [
    "#Create a function that takes a list of strings and integers, and filters out the list so that it\n",
    "#returns a list of integers only.\n",
    "l = [1,2,'a','b']\n",
    "def filter_list(l):\n",
    "    new_list = []\n",
    "    for x in l:\n",
    "        if type(x) == int:\n",
    "            new_list.append(x)\n",
    "    return new_list\n",
    "\n",
    "print(filter_list(l))"
   ]
  },
  {
   "cell_type": "code",
   "execution_count": 7,
   "metadata": {},
   "outputs": [
    {
     "name": "stdout",
     "output_type": "stream",
     "text": [
      "Enter elements of the list: 5 6 7 2 1\n",
      "The modified list is:  [5, 7, 9, 5, 5]\n"
     ]
    }
   ],
   "source": [
    "#Given a list of numbers, create a function which returns the list but with each element&#39;s\n",
    "#index in the list added to itself. This means you add 0 to the number at index 0, add 1 to the\n",
    "#number at index 1, etc...\n",
    "def add_indexes(l):\n",
    "    return [l[i]+i for i in range(len(l))]\n",
    "print(\"The modified list is: \",add_indexes([int(i) for i in input(\"Enter elements of the list: \").split()]))"
   ]
  },
  {
   "cell_type": "code",
   "execution_count": 9,
   "metadata": {},
   "outputs": [
    {
     "name": "stdout",
     "output_type": "stream",
     "text": [
      "Enter radius of the cone: 3\n",
      "Enter height of the cone: 7\n",
      "Volume of the cone:  66.0\n"
     ]
    }
   ],
   "source": [
    "#Create a function that takes the height and radius of a cone as arguments and returns the\n",
    "#volume of the cone rounded to the nearest hundredth. See the resources tab for the formula.\n",
    "r = float(input(\"Enter radius of the cone: \"))\n",
    "h = float(input(\"Enter height of the cone: \"))\n",
    "v=1/3*22/7*r**2*h\n",
    "print(\"Volume of the cone: \",v)"
   ]
  },
  {
   "cell_type": "code",
   "execution_count": 10,
   "metadata": {},
   "outputs": [
    {
     "name": "stdout",
     "output_type": "stream",
     "text": [
      "Numbner of dots:  15\n"
     ]
    }
   ],
   "source": [
    "#Triangular Number Sequence\n",
    "def triangular_series(n):\n",
    "    temp=1\n",
    "    for i in range(1, n + 1):\n",
    "        temp=i*(i+1)//2\n",
    "    print(\"Numbner of dots: \", temp)\n",
    "# Driver code\n",
    "n = 5\n",
    "triangular_series(n)"
   ]
  },
  {
   "cell_type": "code",
   "execution_count": 13,
   "metadata": {},
   "outputs": [
    {
     "name": "stdout",
     "output_type": "stream",
     "text": [
      "Enter the elements: 5 6 2 1 3 9 7 4\n",
      "Missing number is:  8\n"
     ]
    }
   ],
   "source": [
    "#Create a function that takes a list of numbers between 1 and 10 (excluding one number) and\n",
    "#returns the missing number.\n",
    "def missing_num(l):\n",
    "    s=45\n",
    "    for i in l:\n",
    "        s-=i\n",
    "    return s\n",
    "#driver function\n",
    "print(\"Missing number is: \",missing_num([int(i) for i in input(\"Enter the elements: \").split()]))"
   ]
  }
 ],
 "metadata": {
  "kernelspec": {
   "display_name": "Python 3",
   "language": "python",
   "name": "python3"
  },
  "language_info": {
   "codemirror_mode": {
    "name": "ipython",
    "version": 3
   },
   "file_extension": ".py",
   "mimetype": "text/x-python",
   "name": "python",
   "nbconvert_exporter": "python",
   "pygments_lexer": "ipython3",
   "version": "3.8.5"
  }
 },
 "nbformat": 4,
 "nbformat_minor": 4
}
