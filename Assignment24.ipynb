{
  "nbformat": 4,
  "nbformat_minor": 0,
  "metadata": {
    "colab": {
      "name": "Assignment24.ipynb",
      "provenance": []
    },
    "kernelspec": {
      "name": "python3",
      "display_name": "Python 3"
    },
    "language_info": {
      "name": "python"
    }
  },
  "cells": [
    {
      "cell_type": "markdown",
      "metadata": {
        "id": "-4zVsqARGIkF"
      },
      "source": [
        "Create a function that takes an integer and returns a list from 1 to the given number, where:\n",
        "1. If the number can be divided evenly by 4, amplify it by 10 (i.e. return 10 times the\n",
        "number).\n",
        "2. If the number cannot be divided evenly by 4, simply return the number."
      ]
    },
    {
      "cell_type": "code",
      "metadata": {
        "colab": {
          "base_uri": "https://localhost:8080/"
        },
        "id": "G1qcP5B3GA-J",
        "outputId": "8eb9e7eb-f64a-416c-f41e-4c892ec1d60b"
      },
      "source": [
        "l = [int(i) for i in input(\"Enter the numbers: \").split()]\n",
        "for i in range(len(l)):\n",
        "  if l[i] % 4 == 0:\n",
        "    l[i] *= 10\n",
        "print(l)"
      ],
      "execution_count": 2,
      "outputs": [
        {
          "output_type": "stream",
          "text": [
            "Enter the numbers: 5 10 20 4 8 7\n",
            "[5, 10, 200, 40, 80, 7]\n"
          ],
          "name": "stdout"
        }
      ]
    },
    {
      "cell_type": "markdown",
      "metadata": {
        "id": "Oaa9p_NFRLEX"
      },
      "source": [
        "Create a function that takes a list of numbers and return the number that&#39;s unique."
      ]
    },
    {
      "cell_type": "code",
      "metadata": {
        "colab": {
          "base_uri": "https://localhost:8080/"
        },
        "id": "u1O0GJR4Q7Fm",
        "outputId": "a9902afc-5c2d-433a-98de-d4a952b28318"
      },
      "source": [
        "def unique_list(l):\n",
        "  x = []\n",
        "  d= {}\n",
        "  for i in l:\n",
        "    if i not in d:\n",
        "      d[i] = 1\n",
        "    else:\n",
        "      d[i] += 1\n",
        "  for i in d.keys():\n",
        "    if d[i] == 1:\n",
        "      x.append(i)\n",
        "  return x\n",
        "#driver function\n",
        "print(unique_list([int(i) for i in input(\"Enter numbers: \").split()])) "
      ],
      "execution_count": 7,
      "outputs": [
        {
          "output_type": "stream",
          "text": [
            "Enter numbers: 5 7 5 1 7 8\n",
            "[1, 8]\n"
          ],
          "name": "stdout"
        }
      ]
    },
    {
      "cell_type": "markdown",
      "metadata": {
        "id": "f26f7uofR3kn"
      },
      "source": [
        "Your task is to create a Circle constructor that creates a circle with a radius provided by an\n",
        "argument. The circles constructed must have two getters getArea() (PIr^2) and\n",
        "getPerimeter() (2PI*r) which give both respective areas and perimeter (circumference)."
      ]
    },
    {
      "cell_type": "code",
      "metadata": {
        "colab": {
          "base_uri": "https://localhost:8080/"
        },
        "id": "Tl7MBKdURpXz",
        "outputId": "b77a4dca-14a4-4184-d9e3-16e83fb235de"
      },
      "source": [
        "class Circle:\n",
        "  def __init__(self, r):\n",
        "    self.r = r\n",
        "  def getPerimeter(self):\n",
        "    return 2*22/7*self.r\n",
        "  def getArea(self):\n",
        "    return 22/7*self.r**2\n",
        "#driver function\n",
        "c = Circle(int(input(\"Enter radius of the circle: \")))\n",
        "print(\"Perimeter: \",c.getPerimeter())\n",
        "print(\"Area: \",c.getArea())"
      ],
      "execution_count": 9,
      "outputs": [
        {
          "output_type": "stream",
          "text": [
            "Enter radius of the circle: 7\n",
            "Perimeter:  44.0\n",
            "Area:  154.0\n"
          ],
          "name": "stdout"
        }
      ]
    },
    {
      "cell_type": "markdown",
      "metadata": {
        "id": "GLhyWhYPWxet"
      },
      "source": [
        "Create a function that takes a list of strings and return a list, sorted from shortest to longest."
      ]
    },
    {
      "cell_type": "code",
      "metadata": {
        "colab": {
          "base_uri": "https://localhost:8080/"
        },
        "id": "RWFhy4ZVWlSZ",
        "outputId": "e8f05f2d-ad93-4d20-83ee-feb3455fb188"
      },
      "source": [
        "def Sorting(lst):\n",
        "    lst2 = sorted(lst, key=len)\n",
        "    return lst2     \n",
        "# Driver code\n",
        "lst = [\"ank\", \"jay\", \"ayan\", \"dhali\"]\n",
        "print(Sorting(lst))"
      ],
      "execution_count": 13,
      "outputs": [
        {
          "output_type": "stream",
          "text": [
            "['ank', 'jay', 'ayan', 'dhali']\n"
          ],
          "name": "stdout"
        }
      ]
    },
    {
      "cell_type": "markdown",
      "metadata": {
        "id": "9gR9vDahXuCv"
      },
      "source": [
        "Create a function that validates whether three given integers form a Pythagorean triplet. The\n",
        "sum of the squares of the two smallest integers must equal the square of the largest number to\n",
        "be validated."
      ]
    },
    {
      "cell_type": "code",
      "metadata": {
        "colab": {
          "base_uri": "https://localhost:8080/"
        },
        "id": "dHyNDdWDXV_e",
        "outputId": "87ec8527-60da-4ebb-ffd5-1a96dd0ba20f"
      },
      "source": [
        "import math\n",
        "def checkPythagoreanTriplet(l):\n",
        "  if len(l)!=3:\n",
        "    return False\n",
        "  l.sort()\n",
        "  return l[0] ** 2 + l[1] **  2 == l[2]**2\n",
        "#driver menu\n",
        "print(checkPythagoreanTriplet([int(i) for i in input(\"Enter three numbers: \").split()]))"
      ],
      "execution_count": 20,
      "outputs": [
        {
          "output_type": "stream",
          "text": [
            "Enter three numbers: 3 4 5\n",
            "True\n"
          ],
          "name": "stdout"
        }
      ]
    }
  ]
}