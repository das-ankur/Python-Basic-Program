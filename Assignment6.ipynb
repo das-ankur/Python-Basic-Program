{
 "cells": [
  {
   "cell_type": "code",
   "execution_count": 3,
   "metadata": {},
   "outputs": [
    {
     "name": "stdout",
     "output_type": "stream",
     "text": [
      "Enter no. of terms: 10\n",
      "Fibonacci sequence:\n",
      "0\n",
      "1\n",
      "1\n",
      "2\n",
      "3\n",
      "5\n",
      "8\n",
      "13\n",
      "21\n",
      "34\n"
     ]
    }
   ],
   "source": [
    "#Fibonacci Sequence using Recursion\n",
    "def recur_fibo(n):\n",
    "   if n <= 1:\n",
    "       return n\n",
    "   else:\n",
    "       return(recur_fibo(n-1) + recur_fibo(n-2))\n",
    "#main program\n",
    "nterms=int(input(\"Enter no. of terms: \"))\n",
    "if nterms <= 0:\n",
    "   print(\"Plese enter a positive integer\")\n",
    "else:\n",
    "   print(\"Fibonacci sequence:\")\n",
    "   for i in range(nterms):\n",
    "       print(recur_fibo(i))"
   ]
  },
  {
   "cell_type": "code",
   "execution_count": 2,
   "metadata": {},
   "outputs": [
    {
     "name": "stdout",
     "output_type": "stream",
     "text": [
      "Enter a number: 6\n",
      "Factorial:  720\n"
     ]
    }
   ],
   "source": [
    "#Factorial of a number\n",
    "def factorial(n):\n",
    "    if n==0:\n",
    "        return 1\n",
    "    else:\n",
    "        return n*factorial(n-1)\n",
    "#main program\n",
    "n=int(input(\"Enter a number: \"))\n",
    "print(\"Factorial: \",factorial(n))"
   ]
  },
  {
   "cell_type": "code",
   "execution_count": 5,
   "metadata": {},
   "outputs": [
    {
     "name": "stdout",
     "output_type": "stream",
     "text": [
      "Enter height in meters: 5.7\n",
      "Enter weight in kg: 58\n",
      "Your BMI is: 1.7851646660510925\n"
     ]
    }
   ],
   "source": [
    "#Body mass index\n",
    "height = float(input(\"Enter height in meters: \"))\n",
    "weight = float(input(\"Enter weight in kg: \"))\n",
    "bmi = weight/(height**2)\n",
    "print(\"Your BMI is: {0}\".format(bmi))"
   ]
  },
  {
   "cell_type": "code",
   "execution_count": 2,
   "metadata": {},
   "outputs": [
    {
     "name": "stdout",
     "output_type": "stream",
     "text": [
      "Enter a number: 15\n",
      "Logarithm:  1.1760912590556811\n"
     ]
    }
   ],
   "source": [
    "#Natural Logarithm\n",
    "import math\n",
    "n=int(input(\"Enter a number: \"))\n",
    "print(\"Logarithm: \",math.log(n, 10))"
   ]
  },
  {
   "cell_type": "code",
   "execution_count": 3,
   "metadata": {},
   "outputs": [
    {
     "name": "stdout",
     "output_type": "stream",
     "text": [
      "Enter no.  of terms: 3\n",
      "Summation is:  36.0\n"
     ]
    }
   ],
   "source": [
    "#Cube of first n natural numbers\n",
    "n=int(input(\"Enter no.  of terms: \"))\n",
    "if n<=0:\n",
    "    print(\"Invalid Input!\")\n",
    "else:\n",
    "    s=(n*(n+1)/2)**2\n",
    "print(\"Summation is: \",s)"
   ]
  }
 ],
 "metadata": {
  "kernelspec": {
   "display_name": "Python 3",
   "language": "python",
   "name": "python3"
  },
  "language_info": {
   "codemirror_mode": {
    "name": "ipython",
    "version": 3
   },
   "file_extension": ".py",
   "mimetype": "text/x-python",
   "name": "python",
   "nbconvert_exporter": "python",
   "pygments_lexer": "ipython3",
   "version": "3.8.5"
  }
 },
 "nbformat": 4,
 "nbformat_minor": 4
}
