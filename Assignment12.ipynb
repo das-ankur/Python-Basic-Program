{
 "cells": [
  {
   "cell_type": "code",
   "execution_count": 1,
   "metadata": {},
   "outputs": [
    {
     "name": "stdout",
     "output_type": "stream",
     "text": [
      "The original dictionary is : {'a': [5, 6, 7, 8], 'b': [10, 11, 7, 5], 'c': [6, 12, 10, 8], 'd': [1, 2, 5]}\n",
      "The unique values list is : [1, 2, 5, 6, 7, 8, 10, 11, 12]\n"
     ]
    }
   ],
   "source": [
    "#Python program to Extract Unique values dictionary values\n",
    "test_dict = {'a' : [5, 6, 7, 8],\n",
    "             'b' : [10, 11, 7, 5],\n",
    "             'c' : [6, 12, 10, 8],\n",
    "             'd' : [1, 2, 5]}\n",
    "print(\"The original dictionary is : \" + str(test_dict))\n",
    "res = list(sorted({ele for val in test_dict.values() for ele in val})) \n",
    "print(\"The unique values list is : \" + str(res))"
   ]
  },
  {
   "cell_type": "code",
   "execution_count": 2,
   "metadata": {},
   "outputs": [
    {
     "name": "stdout",
     "output_type": "stream",
     "text": [
      "Sum : 600\n"
     ]
    }
   ],
   "source": [
    "#Python program to find the sum of all items in a dictionary\n",
    "def returnSum(myDict):  \n",
    "    sum = 0\n",
    "    for i in myDict:\n",
    "        sum = sum + myDict[i]\n",
    "    return sum\n",
    "# Driver Function\n",
    "dict = {'a': 100, 'b':200, 'c':300}\n",
    "print(\"Sum :\", returnSum(dict))"
   ]
  },
  {
   "cell_type": "code",
   "execution_count": 6,
   "metadata": {},
   "outputs": [
    {
     "name": "stdout",
     "output_type": "stream",
     "text": [
      "{'d': 6, 'c': 4, 'a': 10, 'b': 8}\n"
     ]
    }
   ],
   "source": [
    "#Python program to Merging two Dictionaries\n",
    "def Merge(dict1, dict2):\n",
    "    return(dict2.update(dict1))\n",
    "# Driver code\n",
    "dict1 = {'a': 10, 'b': 8}\n",
    "dict2 = {'d': 6, 'c': 4}\n",
    "Merge(dict1, dict2)\n",
    "print(dict2)"
   ]
  },
  {
   "cell_type": "code",
   "execution_count": 1,
   "metadata": {},
   "outputs": [
    {
     "name": "stdout",
     "output_type": "stream",
     "text": [
      "{0: 'a', 1: 1, 2: 'b', 3: 2, 4: 'c', 5: 3}\n"
     ]
    }
   ],
   "source": [
    "#Convert key value list to dictionary\n",
    "item = ['a', 1, 'b', 2, 'c', 3]\n",
    "key = [0, 1, 2, 3, 4, 5]\n",
    "print({key[i] : item[i] for i in range(len(item))})"
   ]
  },
  {
   "cell_type": "code",
   "execution_count": 3,
   "metadata": {},
   "outputs": [
    {
     "name": "stdout",
     "output_type": "stream",
     "text": [
      "Resultant Dictionary :  OrderedDict([('utshav', '3'), ('ankur', '1'), ('onkur', '2')])\n"
     ]
    }
   ],
   "source": [
    "#Insertion at beginning of OrderedDict\n",
    "from collections import OrderedDict\n",
    "odict = OrderedDict([('ankur', '1'), ('onkur', '2')]) \n",
    "odict.update({'utshav':'3'})\n",
    "odict.move_to_end('utshav', last = False)\n",
    "print (\"Resultant Dictionary : \",odict)"
   ]
  },
  {
   "cell_type": "code",
   "execution_count": 5,
   "metadata": {},
   "outputs": [
    {
     "name": "stdout",
     "output_type": "stream",
     "text": [
      "true\n"
     ]
    }
   ],
   "source": [
    "#Check order of characters in a string using OrderedDict\n",
    "from collections import OrderedDict \n",
    "def checkOrder(s, pattern):  \n",
    "    d = OrderedDict.fromkeys(s)  \n",
    "    ptrlen = 0\n",
    "    for key,value in d.items(): \n",
    "        if (key == pattern[ptrlen]): \n",
    "            ptrlen = ptrlen + 1\n",
    "        if (ptrlen == (len(pattern))): \n",
    "            return 'true'\n",
    "    return 'false'\n",
    "# Driver program \n",
    "if __name__ == \"__main__\": \n",
    "    s = 'ankur'\n",
    "    pattern = 'ank'\n",
    "    print (checkOrder(s,pattern))"
   ]
  },
  {
   "cell_type": "code",
   "execution_count": 6,
   "metadata": {},
   "outputs": [
    {
     "name": "stdout",
     "output_type": "stream",
     "text": [
      "Dictionary sorted in Ascending order by key\n",
      "{1: 'Java', 2: 'Python', 3: 'C++'}\n",
      "Dictionary sorted in Descending order by key\n",
      "{3: 'C++', 2: 'Python', 1: 'Java'}\n"
     ]
    }
   ],
   "source": [
    "#Sort dictionary by value\n",
    "d = {2: 'Python',  1: 'Java', 3: 'C++'}\n",
    "asc_dict = dict(sorted(d.items()))\n",
    "desc_dict = dict(sorted(d.items(), reverse=True))\n",
    "print(\"Dictionary sorted in Ascending order by key\")\n",
    "print(asc_dict)\n",
    "print(\"Dictionary sorted in Descending order by key\")\n",
    "print(desc_dict)"
   ]
  },
  {
   "cell_type": "code",
   "execution_count": 7,
   "metadata": {},
   "outputs": [
    {
     "name": "stdout",
     "output_type": "stream",
     "text": [
      "Dictionary sorted in Ascending order by key\n",
      "[(1, 'Java'), (2, 'Python'), (3, 'C++')]\n",
      "Dictionary sorted in Descending order by key\n",
      "[(3, 'C++'), (2, 'Python'), (1, 'Java')]\n"
     ]
    }
   ],
   "source": [
    "#Sort dictionary by key\n",
    "d = { 2 : 'Python',  1 : 'Java', 3 : 'C++'}\n",
    "#converting dictionary to list of dict_items\n",
    "l = list(d.items())\n",
    "l.sort()\n",
    "print(\"Dictionary sorted in Ascending order by key\")\n",
    "print(l)\n",
    "l.sort(reverse=True)\n",
    "print(\"Dictionary sorted in Descending order by key\")\n",
    "print(l)"
   ]
  }
 ],
 "metadata": {
  "kernelspec": {
   "display_name": "Python 3",
   "language": "python",
   "name": "python3"
  },
  "language_info": {
   "codemirror_mode": {
    "name": "ipython",
    "version": 3
   },
   "file_extension": ".py",
   "mimetype": "text/x-python",
   "name": "python",
   "nbconvert_exporter": "python",
   "pygments_lexer": "ipython3",
   "version": "3.8.5"
  }
 },
 "nbformat": 4,
 "nbformat_minor": 4
}
