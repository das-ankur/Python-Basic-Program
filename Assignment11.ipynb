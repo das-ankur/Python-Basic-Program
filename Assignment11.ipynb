{
  "nbformat": 4,
  "nbformat_minor": 0,
  "metadata": {
    "colab": {
      "name": "Assignment11.ipynb",
      "provenance": [],
      "collapsed_sections": []
    },
    "kernelspec": {
      "name": "python3",
      "display_name": "Python 3"
    },
    "language_info": {
      "name": "python"
    }
  },
  "cells": [
    {
      "cell_type": "code",
      "metadata": {
        "colab": {
          "base_uri": "https://localhost:8080/"
        },
        "id": "dVyC5wjOZSCZ",
        "outputId": "0dd4a828-f418-4f71-8e7f-657deaff9721"
      },
      "source": [
        "#Words greater than length k\n",
        "text=input(\"Enter words(seperated by space): \").split()\n",
        "l=int(input(\"Enter the length: \"))\n",
        "print(\"All words greater than length \",l,\":\")\n",
        "for i in text:\n",
        "  if len(i)>l:\n",
        "    print(i)"
      ],
      "execution_count": null,
      "outputs": [
        {
          "output_type": "stream",
          "text": [
            "Enter words(seperated by space): I study in Calcutta University \n",
            "Enter the length: 3\n",
            "All words greater than length  3 :\n",
            "study\n",
            "Calcutta\n",
            "University\n"
          ],
          "name": "stdout"
        }
      ]
    },
    {
      "cell_type": "code",
      "metadata": {
        "colab": {
          "base_uri": "https://localhost:8080/"
        },
        "id": "e4gSz794aNHP",
        "outputId": "d6a70c14-bda9-4685-d09b-2bcaacbb8fe9"
      },
      "source": [
        "#Remove i-th character from string\n",
        "text=input(\"Enter words(seperated by space): \")\n",
        "idx=int(input(\"Enter the index: \"))\n",
        "print(\"New string is: \",text.replace(text[idx], \"\"))"
      ],
      "execution_count": null,
      "outputs": [
        {
          "output_type": "stream",
          "text": [
            "Enter words(seperated by space): Ankur Das\n",
            "Enter the index: 4\n",
            "New string is:  Anku Das\n"
          ],
          "name": "stdout"
        }
      ]
    },
    {
      "cell_type": "code",
      "metadata": {
        "colab": {
          "base_uri": "https://localhost:8080/"
        },
        "id": "mmK43Xy6bIvN",
        "outputId": "7a9fb417-f5ec-4e9e-b472-9c1e708d1327"
      },
      "source": [
        "#Split and Join String\n",
        "def split_string(string):\n",
        "    list_string = string.split(' ')\n",
        "    return list_string\n",
        "def join_string(list_string):\n",
        "    string = '-'.join(list_string)\n",
        "    return string\n",
        "# Driver Function\n",
        "if __name__ == '__main__':\n",
        "    string = input(\"Enter a string: \")\n",
        "    list_string = split_string(string)\n",
        "    print(\"After Split: \")\n",
        "    print(list_string)\n",
        "    new_string = join_string(list_string)\n",
        "    print(\"After Join: \")\n",
        "    print(new_string)"
      ],
      "execution_count": null,
      "outputs": [
        {
          "output_type": "stream",
          "text": [
            "Enter a string: Ankur Das\n",
            "After Split: \n",
            "['Ankur', 'Das']\n",
            "After Join: \n",
            "Ankur-Das\n"
          ],
          "name": "stdout"
        }
      ]
    },
    {
      "cell_type": "code",
      "metadata": {
        "colab": {
          "base_uri": "https://localhost:8080/"
        },
        "id": "nnXuSAcLb1NK",
        "outputId": "bafd1895-df38-4da3-f35e-13413bf2540a"
      },
      "source": [
        "#Check Binary String\n",
        "def check(string) :\n",
        "    p = set(string)\n",
        "    s = {'0', '1'}\n",
        "    if s == p or p == {'0'} or p == {'1'}:\n",
        "        print(\"It is a binary string.\")\n",
        "    else :\n",
        "        print(\"It isn't a  binary string.\")          \n",
        "# driver code\n",
        "if __name__ == \"__main__\" :\n",
        "    string = input(\"Enter a string: \")\n",
        "    check(string)"
      ],
      "execution_count": null,
      "outputs": [
        {
          "output_type": "stream",
          "text": [
            "Enter a string: 10100001\n",
            "It is a binary string.\n"
          ],
          "name": "stdout"
        }
      ]
    },
    {
      "cell_type": "code",
      "metadata": {
        "colab": {
          "base_uri": "https://localhost:8080/"
        },
        "id": "WLFMOxPucpQk",
        "outputId": "a461b2a1-da6d-446c-b07b-335c9c905af4"
      },
      "source": [
        "#Remove uncommon words from string\n",
        "def UncommonWords(A, B):\n",
        "    count = {}\n",
        "    for word in A.split():\n",
        "        count[word] = count.get(word, 0) + 1\n",
        "    for word in B.split():\n",
        "        count[word] = count.get(word, 0) + 1\n",
        "    return [word for word in count if count[word] == 1] \n",
        "# Driver Code\n",
        "A = input(\"Enter first string: \")\n",
        "B = input(\"Enter second string: \")\n",
        "print(UncommonWords(A, B))"
      ],
      "execution_count": null,
      "outputs": [
        {
          "output_type": "stream",
          "text": [
            "Enter first string: My name is Ankur\n",
            "Enter second string: My name is Onkur\n",
            "['Ankur', 'Onkur']\n"
          ],
          "name": "stdout"
        }
      ]
    },
    {
      "cell_type": "code",
      "metadata": {
        "colab": {
          "base_uri": "https://localhost:8080/"
        },
        "id": "EUBG8VjodL6E",
        "outputId": "3f0567f8-4cf0-4336-f4b7-c149d8816568"
      },
      "source": [
        "#Remove Duplicate Characters\n",
        "from collections import OrderedDict \n",
        "def removeDupWithoutOrder(s): \n",
        "    return \"\".join(set(s)) \n",
        "def removeDupWithOrder(s): \n",
        "    return \"\".join(OrderedDict.fromkeys(s)) \n",
        "# Driver program \n",
        "if __name__ == \"__main__\": \n",
        "    s= input(\"Enter a string: \")\n",
        "    print (\"Without Order = \",removeDupWithoutOrder(s)) \n",
        "    print (\"With Order = \",removeDupWithOrder(s)) "
      ],
      "execution_count": null,
      "outputs": [
        {
          "output_type": "stream",
          "text": [
            "Enter a string: Anknnkkuknr\n",
            "Without Order =  urknA\n",
            "With Order =  Ankur\n"
          ],
          "name": "stdout"
        }
      ]
    },
    {
      "cell_type": "code",
      "metadata": {
        "id": "wCWRqJrqdsuL",
        "colab": {
          "base_uri": "https://localhost:8080/"
        },
        "outputId": "970d2b48-14d0-4e9d-e733-6c39f745f126"
      },
      "source": [
        "#String  with special character\n",
        "# Python3 program to check if a string\n",
        "# contains any special character\n",
        "  \n",
        "# import required package\n",
        "import re\n",
        "  \n",
        "# Function checks if the string\n",
        "# contains any special character\n",
        "def run(string):\n",
        "    regex = re.compile('[@_!#$%^&*()<>?/\\|}{~:]')   \n",
        "    if(regex.search(string) == None):\n",
        "        print(\"String doesn't contain special character(s).\")   \n",
        "    else:\n",
        "        print(\"String contains special character(s).\")\n",
        "# Driver Code\n",
        "if __name__ == '__main__' :\n",
        "    string = input(\"Enter a string: \")\n",
        "    run(string)"
      ],
      "execution_count": 2,
      "outputs": [
        {
          "output_type": "stream",
          "text": [
            "Enter a string: I am (Ankur^Das).\n",
            "String contains special character(s).\n"
          ],
          "name": "stdout"
        }
      ]
    }
  ]
}